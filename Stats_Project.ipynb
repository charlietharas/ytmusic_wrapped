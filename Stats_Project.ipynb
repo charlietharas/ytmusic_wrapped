{
  "nbformat": 4,
  "nbformat_minor": 0,
  "metadata": {
    "colab": {
      "provenance": [],
      "collapsed_sections": [
        "mxPxppYvYSFk",
        "iq7_lIIX8Xe2",
        "oyZv2cuc9edo"
      ],
      "authorship_tag": "ABX9TyM89EPU8V8TaTYzFD6LUgZ6"
    },
    "kernelspec": {
      "name": "python3",
      "display_name": "Python 3"
    },
    "language_info": {
      "name": "python"
    }
  },
  "cells": [
    {
      "cell_type": "markdown",
      "source": [
        "## Setup code\n",
        "Run this to set up all the pre-written functions that make everything work."
      ],
      "metadata": {
        "id": "mr2N95cpctBR"
      }
    },
    {
      "cell_type": "markdown",
      "source": [
        "### Imports\n",
        "Run to import required modules"
      ],
      "metadata": {
        "id": "mxPxppYvYSFk"
      }
    },
    {
      "cell_type": "code",
      "source": [
        "import datetime\n",
        "import time\n",
        "import sys\n",
        "import os\n",
        "import getopt\n",
        "\n",
        "import json\n",
        "import requests\n",
        "import re\n",
        "import urllib.parse\n",
        "import ast\n",
        "\n",
        "import math\n",
        "import pandas as pd\n",
        "import collections\n",
        "import itertools\n",
        "from scipy import stats\n",
        "\n",
        "import matplotlib.pyplot as plt\n",
        "from IPython.display import HTML, display\n",
        "\n",
        "import pickle\n",
        "from google.colab import drive\n",
        "drive.mount('/content/drive')"
      ],
      "metadata": {
        "id": "ge083-6rStL0",
        "outputId": "f6e2359c-6c8e-49a1-f791-4d0de207eba4",
        "colab": {
          "base_uri": "https://localhost:8080/"
        }
      },
      "execution_count": null,
      "outputs": [
        {
          "output_type": "stream",
          "name": "stdout",
          "text": [
            "Mounted at /content/drive\n"
          ]
        }
      ]
    },
    {
      "cell_type": "markdown",
      "source": [
        "### Loader class\n",
        "This loader class parses a `watch-history.json` file from Google Takeout to get weather and song history data. Generates supplemental matrices such as unique artists and unique songs. Functionality can be adjusted with parameters when constructing class.\n",
        "\n",
        "Contains a LOT of bad, sloppy, lazy code."
      ],
      "metadata": {
        "id": "iq7_lIIX8Xe2"
      }
    },
    {
      "cell_type": "code",
      "source": [
        "class Loader():\n",
        "    # initializes parameters\n",
        "    def __init__(self, duration=True, more_details=True, use_songs=True, analyze_year=\"\", apikey=\"\", filepath=\"\", ignores={\"Title\": [], \"Artist\": [], \"URL\": []}):\n",
        "        self.duration, self.more_details, self.use_songs, self.analyze_year, self.apikey, self.filepath, self.ignores = (duration, more_details, use_songs, analyze_year, apikey, filepath, ignores)\n",
        "        self.file = self.open_file(self.filepath, \".json\")\n",
        "        self.out = display(self.progress(0, 100), display_id=True)\n",
        "\n",
        "    # utility methods\n",
        "    # filters irrelevant watch history entries\n",
        "    def should_not_ignore(self, title, year, header):\n",
        "        if header == \"YouTube Music\" and title[:7] == \"Watched\" and year[:4] in self.analyze_year:\n",
        "            return 1\n",
        "        if header == \"YouTube\" and title == \"Visited YouTube Music\" and year[:4] in self.analyze_year:\n",
        "            return 2\n",
        "        return 0\n",
        "\n",
        "    # loads file in an unnecessarily complex way\n",
        "    def open_file(self, filepath, filetype):\n",
        "        if (filepath.endswith(filetype)):\n",
        "            try:\n",
        "                file = open(filepath, \"r\", encoding=\"utf8\")\n",
        "                return file\n",
        "            except:\n",
        "                print(\"Could not open your report file\")\n",
        "                sys.exit()\n",
        "        else:\n",
        "            print(\"Incorrect filetype.\")\n",
        "            sys.exit()\n",
        "\n",
        "\n",
        "    # processes bulk lists\n",
        "    def parse_json(self):\n",
        "        # load weather and song history data into matrices\n",
        "        self.history = {\"Title\": [], \"Artist\": [], \"Year\": [], \"URL\": [], \"Duration\": [], \"WeatherData\": []}\n",
        "        self.weather_history = {\"Year\": [], \"Temperature\": [], \"Weather\": []}\n",
        "        json_object = json.load(self.file)\n",
        "        for obj in json_object:\n",
        "            if self.should_not_ignore(obj['title'], obj['time'], obj['header']) == 1:\n",
        "                if 'subtitles' in obj:\n",
        "                    self.history[\"Title\"].append(obj['title'][8:])\n",
        "                    self.history[\"Artist\"].append(obj['subtitles'][0]['name'].replace('- Topic ', '').replace('- Topic', ''))\n",
        "                    self.history[\"Year\"].append(obj['time'])\n",
        "                    self.history[\"URL\"].append(obj['titleUrl'][32:])\n",
        "                    self.history[\"Duration\"].append(0)\n",
        "                    self.history[\"WeatherData\"].append({})\n",
        "            elif self.should_not_ignore(obj['title'], obj['time'], obj['header']) == 2:\n",
        "                if 'subtitles' in obj:\n",
        "                    self.weather_history[\"Year\"].append(obj['time'])\n",
        "                    temperature = \"INVALID\"\n",
        "                    weather = \"INVALID\"\n",
        "                    for i in obj['subtitles']:\n",
        "                        if \"Temperature:\" in i['name']:\n",
        "                            temperature = i['name'][13:]\n",
        "                        if \"Weather:\" in i['name']:\n",
        "                            weather = i['name'][9:]\n",
        "                    self.weather_history[\"Temperature\"].append(temperature)\n",
        "                    self.weather_history[\"Weather\"].append(weather)\n",
        "\n",
        "        # preprocessing\n",
        "        for i in range(len(self.history[\"Title\"])):\n",
        "            if i >= len(self.history[\"Title\"]):\n",
        "                break\n",
        "            if self.history[\"Title\"][i] in self.ignores[\"Title\"] or self.history[\"Artist\"][i] in self.ignores[\"Artist\"] or self.history[\"URL\"][i] in self.ignores[\"URL\"]:\n",
        "                del self.history[\"Title\"][i]\n",
        "                del self.history[\"Artist\"][i]\n",
        "                del self.history[\"Year\"][i]\n",
        "                del self.history[\"URL\"][i]\n",
        "                del self.history[\"Duration\"][i]\n",
        "                del self.history[\"WeatherData\"][i]\n",
        "                i-= 1\n",
        "\n",
        "        # bind most recent weather to song\n",
        "        self.get_weather()\n",
        "\n",
        "        # calclate occurrences per song\n",
        "        occurrences = collections.Counter(self.history['URL'])\n",
        "        self.history['Occurrences'] = []\n",
        "        for i in self.history['URL']:\n",
        "            self.history['Occurrences'].append(occurrences[i])\n",
        "\n",
        "        # generate artists matrix\n",
        "        occurrences = collections.Counter(self.history['Artist'])\n",
        "        duration = [0]*len(occurrences.keys())\n",
        "        self.artists = {\"Artist\": occurrences.keys(), \"Occurrences\": occurrences.values(), \"Duration\": duration}\n",
        "\n",
        "    # generates dataframes and csv files\n",
        "    def gen_csvs(self):\n",
        "        self.historyDF = pd.DataFrame(self.history)\n",
        "        self.historyDF.to_csv(\"report-history.csv\")\n",
        "\n",
        "        self.artistsDF = pd.DataFrame(self.artists)\n",
        "        self.artistsDF.to_csv(\"report-artists.csv\")\n",
        "\n",
        "        self.songsDF = pd.DataFrame(self.history)\n",
        "        self.total_songs = len(self.songsDF)\n",
        "        self.songsDF.drop_duplicates(subset=['URL'], inplace=True)\n",
        "        self.unique_songs = len(self.songsDF)\n",
        "        self.songsDF = self.songsDF.reset_index(drop=True)\n",
        "        self.songsDF.to_csv(\"report-songs.csv\")\n",
        "\n",
        "        self.weatherDF = pd.DataFrame(self.weather_history)\n",
        "        self.weatherDF.to_csv(\"report-weather.csv\")\n",
        "\n",
        "    # API management functions\n",
        "    # parse duration into seconds in an unnecessarily bad and clunky way\n",
        "    def parse_duration(self, duration):\n",
        "        timestr = duration\n",
        "        time = re.findall(r'\\d+', timestr)\n",
        "        length = len(time)\n",
        "        if length > 4:\n",
        "            return 0\n",
        "        if length == 4:\n",
        "            return ((int(time[0])*24*60*60)+(int(time[1])*60*60)+int(time[2]*60)+(int(time[3])))\n",
        "        elif length == 3:\n",
        "            return ((int(time[0])*60*60)+(int(time[1])*60)+(int(time[2])))\n",
        "        elif length == 2:\n",
        "            return ((int(time[0])*60)+(int(time[1])))\n",
        "        elif length == 1:\n",
        "            return (int(time[0]))\n",
        "        else:\n",
        "            return 0\n",
        "\n",
        "    # request duration of song by URL from YouTube API\n",
        "    def call_api(self, idlist):\n",
        "        parameters = {\"part\": \"contentDetails,snippet\",\n",
        "                      \"id\": ','.join(idlist), \"key\": self.apikey}\n",
        "        response = requests.get(\n",
        "            \"https://www.googleapis.com/youtube/v3/videos\", params=parameters)\n",
        "\n",
        "        if (response.status_code == 200):\n",
        "            json_parsed = response.json()\n",
        "            for item in json_parsed['items']:\n",
        "                duration = self.parse_duration(item['contentDetails']['duration'])\n",
        "                url = item['id']\n",
        "                if duration < 10:\n",
        "                    duration = duration * 60\n",
        "\n",
        "                # update by url\n",
        "                for (j, i) in enumerate(self.history[\"URL\"]):\n",
        "                    if i == url:\n",
        "                        if duration >= 10:\n",
        "                            self.history[\"Duration\"][j] = duration\n",
        "\n",
        "    # generate progress bar for Colab visualization\n",
        "    # TODO should probably add this to genres\n",
        "    def progress(self, value, max=100):\n",
        "        return HTML(\"\"\"\n",
        "            <progress\n",
        "                value='{value}'\n",
        "                max='{max}',\n",
        "                style='width: 100%'\n",
        "            >\n",
        "                {value}\n",
        "            </progress>\n",
        "        \"\"\".format(value=value, max=max))\n",
        "\n",
        "    # terribly clunky method which bulk requests YouTube API for all song durations, creates supplemental matrices\n",
        "    def get_duration(self):\n",
        "        # Count duration\n",
        "        idlist = []\n",
        "        calls = 0\n",
        "        unique_song_urls = set(self.history['URL'])\n",
        "        len_usurl = len(unique_song_urls)\n",
        "        print(\"Getting durations. This may take a while. Awaiting\", len_usurl, \"requests.\")\n",
        "        for url in unique_song_urls:\n",
        "            idlist.append(url)\n",
        "            if len(idlist) == 50:\n",
        "                self.out.update(self.progress(((1+50*calls)*100)/len_usurl, 100))\n",
        "                self.call_api(idlist)\n",
        "                calls += 1\n",
        "                idlist = []\n",
        "        self.out.update(self.progress(100, 100))\n",
        "        self.call_api(idlist)\n",
        "\n",
        "        artist_durations = {}\n",
        "        for i in range(len(self.history[\"Artist\"])):\n",
        "            duration = self.history[\"Duration\"][i]\n",
        "            artist = self.history[\"Artist\"][i]\n",
        "            try:\n",
        "                artist_durations[artist] += duration\n",
        "            except:\n",
        "                artist_durations[artist] = duration\n",
        "\n",
        "        occurrences = collections.Counter(self.history[\"Artist\"])\n",
        "        artists_dict = collections.defaultdict(list)\n",
        "        for i in (artist_durations, occurrences):\n",
        "            for key, val in i.items():\n",
        "                artists_dict[key].append(val)\n",
        "\n",
        "        durations = []\n",
        "        occurrences = []\n",
        "        for i, j in artists_dict.values():\n",
        "            durations.append(i)\n",
        "            occurrences.append(j)\n",
        "\n",
        "        self.artists = {\"Artist\": artists_dict.keys(), \"Occurrences\": occurrences, \"Duration\": durations}\n",
        "\n",
        "        self.gen_csvs()\n",
        "\n",
        "    # binds most recent weather to every song in history\n",
        "    def get_weather(self):\n",
        "        curr_time_idx = 0\n",
        "        for c, i in enumerate(self.history['Year']):\n",
        "            weather_time = datetime.datetime.strptime(self.weather_history['Year'][curr_time_idx][:self.weather_history['Year'][curr_time_idx].index(\":\")+2], \"%Y-%m-%dT%H:%M\")\n",
        "            if curr_time_idx+1 < len(self.weather_history['Year']):\n",
        "                next_weather_time = datetime.datetime.strptime(self.weather_history['Year'][curr_time_idx+1][:self.weather_history['Year'][curr_time_idx+1].index(\":\")+2], \"%Y-%m-%dT%H:%M\")\n",
        "            song_time = datetime.datetime.strptime(i[:i.index(\":\")+2], \"%Y-%m-%dT%H:%M\")\n",
        "            diff1 = abs(song_time - weather_time)\n",
        "            diff2 = abs(song_time - next_weather_time)\n",
        "            if diff2 <= diff1:\n",
        "                curr_time_idx += 1\n",
        "            if curr_time_idx+1 == len(self.weather_history['Year']):\n",
        "                curr_time_idx -= 1\n",
        "            self.history['WeatherData'][c]['Temperature'] = self.weather_history['Temperature'][curr_time_idx]\n",
        "            self.history['WeatherData'][c]['Weather'] = self.weather_history['Weather'][curr_time_idx]\n",
        "\n",
        "    # generates and returns matrices (no load)\n",
        "    def outs(self):\n",
        "        print(\"We are now processing your file\")\n",
        "        self.parse_json()\n",
        "\n",
        "        if self.duration:\n",
        "            self.get_duration()\n",
        "        else:\n",
        "            self.gen_csvs() # generates dataframes and CSVs\n",
        "\n",
        "        return self.historyDF, self.artistsDF, self.songsDF, self.weatherDF\n",
        "\n",
        "    # loads matrices from filesystem and returns (load)\n",
        "    def load(self, loadfp):\n",
        "        print(\"Loading your preprocessed history files\")\n",
        "        historyDF = pd.read_csv(self.open_file(os.path.join(loadfp, \"report-history.csv\"), \".csv\"))\n",
        "        artistsDF = pd.read_csv(self.open_file(os.path.join(loadfp, \"report-artists.csv\"), \".csv\"))\n",
        "        songsDF = pd.read_csv(self.open_file(os.path.join(loadfp, \"report-songs.csv\"), \".csv\"))\n",
        "        weatherDF = pd.read_csv(self.open_file(os.path.join(loadfp, \"report-weather.csv\"), \".csv\"))\n",
        "\n",
        "        return (historyDF, artistsDF, songsDF, weatherDF)"
      ],
      "metadata": {
        "id": "_MN-ZLgfjMBD"
      },
      "execution_count": null,
      "outputs": []
    },
    {
      "cell_type": "markdown",
      "source": [
        "### Analyzer class\n",
        "Analyzer class processes generated dataframes returned by the Loader class.\n",
        "- `tops()` returns a tuple of two lists: top 10 songs (by occurrences) and top 10 artists (by total time listened)\n",
        "- `meta()` returns general information about watch history as a dictionary\n",
        "- `genre_binds()` TODO\n",
        "- `artist_genres()` uses MusicBrainz API, combined with optional user input (customize with flags) to generate genres for artists. Genres can be simplified to a few basic ones using flags.\n",
        "- `weather_distribution_totals()` returns the total counts of all songs for each temperature-weather combination\n",
        "- `weather_chi_squared()` returns components of a chi-squared test for homogeneity as a dictionary"
      ],
      "metadata": {
        "id": "FmltjvtB8aHZ"
      }
    },
    {
      "cell_type": "code",
      "execution_count": null,
      "metadata": {
        "id": "Vyqw36-9So1d"
      },
      "outputs": [],
      "source": [
        "class Analyzer():\n",
        "    # stores passed-throuhg dataframes\n",
        "    def __init__(self, historyDF, artistsDF, songsDF, weatherDF):\n",
        "        self.history = historyDF\n",
        "        self.artists = artistsDF\n",
        "        self.songs = songsDF\n",
        "        self.weatherDF = weatherDF\n",
        "\n",
        "    # top 10 songs and artists\n",
        "    def tops(self):\n",
        "        songs_top = self.songs.nlargest(10, ['Occurrences'])\n",
        "        artists_top = self.artists.nlargest(10, ['Duration'])\n",
        "\n",
        "        return artists_top, songs_top\n",
        "\n",
        "    # return basic important data ('metadata' is used erroneously here but I am lazy)\n",
        "    def meta(self):\n",
        "        meta = {}\n",
        "        meta[\"Total Seconds\"] = sum(self.history[\"Duration\"])\n",
        "        meta[\"Total Songs\"] = len(self.history[\"Title\"])\n",
        "        meta[\"Unique Songs\"] = len(self.songs[\"Title\"])\n",
        "        meta[\"Unique Artists\"] = len(self.artists[\"Artist\"])\n",
        "        return meta\n",
        "\n",
        "    # requests MusicBrainz API or manual user input to store the genre of all artists\n",
        "    def artist_genres(self, load=True, write=False, manual_fill=False, all_manual=False, debug=False, uniques=True, condense=True, lim=-1):\n",
        "        # warning: do not use debug flag in conjunction with other flags other than write, lim\n",
        "        # use to just load in a file instead of re-pinging API\n",
        "\n",
        "        # load in genre condensation files (mandatory, usage is optional)\n",
        "        # WARNING: THIS MAY NOT ACCOUNT FOR ALL GENRE CONVERSIONS AND THERE IS CURRENTLY NO BUILT-IN METHOD TO ADD NEW ONES\n",
        "        with open('genre_binds.txt', 'r') as convert_file:\n",
        "            genre_binds = json.load(convert_file)\n",
        "\n",
        "        if load:\n",
        "            with open('artist_tags.txt', 'r') as convert_file:\n",
        "                artist_tags = json.load(convert_file)\n",
        "            if manual_fill:\n",
        "                c = 0\n",
        "                for key, val in artist_tags.items():\n",
        "                    if len(val) < 1:\n",
        "                        artist_tags[key] = [x.strip() for x in input(\"Enter (comma-separated if multiple) tags for artist \" + key + \"\\n\").split(',')]\n",
        "                    c+= 1\n",
        "                    if c%50 == 0:\n",
        "                        print(\"Processed\", c, \"artists\")\n",
        "            if condense:\n",
        "                for key, val in artist_tags.items():\n",
        "                    new_list = []\n",
        "                    for i in val:\n",
        "                        if i not in genre_binds.keys():\n",
        "                            new_list.append(input('\\nEnter a valid genre to replace ' + i + ' for artist ' + key))\n",
        "                        else:\n",
        "                            new_list.append(genre_binds[i])\n",
        "                    if uniques:\n",
        "                        new_list = list(set(new_list))\n",
        "                    artist_tags[key] = new_list\n",
        "\n",
        "            if write:\n",
        "                with open('artist_tags.txt', 'w') as convert_file:\n",
        "                    convert_file.write(json.dumps(artist_tags))\n",
        "            return artist_tags\n",
        "\n",
        "        # load in accepted genres from file (mandatory)\n",
        "        allowed_vals_f = open('genres.txt', 'r')\n",
        "        allowed_vals = []\n",
        "        for i in allowed_vals_f:\n",
        "            allowed_vals.append(i.replace(\"\\n\", \"\"))\n",
        "\n",
        "        # requests MusicBrainz database\n",
        "        artist_tags = {} # list of present allowed tags\n",
        "        artist_tags_debug = {} # list of all present tags (return with the debug option)\n",
        "\n",
        "        # use the lim flag to only get lim amount of artists for debugging, etc.\n",
        "        if lim == -1:\n",
        "            lim = len(self.artists['Artist'])\n",
        "\n",
        "        print(lim, \"Artists to process\")\n",
        "        for c, i in enumerate(self.artists['Artist'][0:lim]):\n",
        "            # use the all_manual option to manually enter data for all artists (no crowdsourcing)\n",
        "            artist_tags[i] = []\n",
        "            artist_tags_debug[i] = []\n",
        "            if all_manual:\n",
        "                artist_tags[i] = [x.strip() for x in input(\"Enter (comma-separated if multiple) tags for artist \" + i + \"\\n\").split(',')]\n",
        "                if c % 50 == 0:\n",
        "                    print(\"Processed\", c, \"artists\")\n",
        "            else:\n",
        "                response = requests.get(\"https://musicbrainz.org/ws/2/artist/?fmt=json&query=name:\" + urllib.parse.quote(i.strip()))\n",
        "                if c % 20 == 0:\n",
        "                    print(\"Processed\", c, \"artists\")\n",
        "                try:\n",
        "                    tags = response.json()['artists'][0]['tags']\n",
        "                    for ii in tags:\n",
        "                        artist_tags_debug[i].append(ii['name']) # dumps all tags (allowed or not) for debugging\n",
        "                        if ii['name'] in allowed_vals:\n",
        "                            if condense:\n",
        "                                try:\n",
        "                                    artist_tags[i].append(genre_binds[ii['name']])\n",
        "                                except KeyError:\n",
        "                                    print(\"Enter a valid key for artist\", i)\n",
        "                                    artist_tags[i].append(genre_binds[input()])\n",
        "                            else:\n",
        "                                artist_tags[i].append(ii['name'])\n",
        "                    # use the uniques flag to prevent duplicate tags for artists (recommended)\n",
        "                    if uniques:\n",
        "                        artist_tags[i] = list(set(artist_tags[i]))\n",
        "                except:\n",
        "                    # use the manual_fill option to manually enter data for artists with no tags (on by default)\n",
        "                    if manual_fill:\n",
        "                        artist_tags[i] = [x.strip() for x in input(\"Enter (comma-separated if multiple) tags for artist \" + i + \"\\n\").split(',')]\n",
        "\n",
        "        # use the write option to store artist tags for easy loading\n",
        "        if write:\n",
        "            with open('artist_tags.txt', 'w') as convert_file:\n",
        "                if debug:\n",
        "                    convert_file.write(json.dumps(artist_tags_debug))\n",
        "                else:\n",
        "                    convert_file.write(json.dumps(artist_tags))\n",
        "\n",
        "        if debug:\n",
        "            return artist_tags_debug\n",
        "        return artist_tags\n",
        "\n",
        "    # calcualtes total songs under each weather pattern\n",
        "    # TODO replace code with weather_distributions_genres() method call\n",
        "    def weather_distributions_totals(self):\n",
        "        weather_dist = {}\n",
        "        for c, i in enumerate(self.history['WeatherData']):\n",
        "            j = json.loads(str(i).replace('\\'', '\\\"'))\n",
        "            t, w = j['Temperature'], j['Weather']\n",
        "            if w == 'Thunderstorm':\n",
        "                w = \"Rain\"\n",
        "            if t + \";\" + w in weather_dist.keys():\n",
        "                weather_dist[t + \";\" + w] += 1\n",
        "            else:\n",
        "                weather_dist[t + \";\" + w] = 1\n",
        "\n",
        "        return weather_dist\n",
        "\n",
        "    # calculates distributions of genres under a weather pattern: use flag to determine temperature, weather, or both\n",
        "    def weather_distributions_genres(self, artist_tags, dist_type=\"Both\"):\n",
        "        weather_dist = {}\n",
        "        for c, (weather, artist) in enumerate(zip(self.history['WeatherData'], self.history['Artist'])):\n",
        "            j = json.loads(str(weather).replace('\\'', '\\\"'))\n",
        "            t, w = j['Temperature'], j['Weather']\n",
        "            if w == 'Thunderstorm':\n",
        "                w = \"Rain\"\n",
        "            if dist_type.lower()==\"both\":\n",
        "                ind = t + \";\" + w\n",
        "            elif dist_type.lower()==\"weather\":\n",
        "                ind = w\n",
        "            elif dist_type.lower()==\"temperature\":\n",
        "                ind = t\n",
        "            else:\n",
        "                print(\"INVALID DISTRIBUTION TYPE\")\n",
        "                return -1\n",
        "            if ind in weather_dist.keys():\n",
        "                for i in artist_tags[artist]:\n",
        "                    if i in weather_dist[ind].keys():\n",
        "                        weather_dist[ind][i] += 1\n",
        "                    else:\n",
        "                        weather_dist[ind][i] = 1\n",
        "            else:\n",
        "                weather_dist[ind] = {}\n",
        "                for i in artist_tags[artist]:\n",
        "                    weather_dist[ind][i] = 1\n",
        "\n",
        "        return weather_dist\n",
        "\n",
        "    # returns components of a chi_squared value for an input weather distribution\n",
        "    def weather_chi_squared(self, weather_dist):\n",
        "        rtrn = {}\n",
        "\n",
        "        # handles missing/invalid data\n",
        "        invalid_keys = []\n",
        "        for key in weather_dist.keys():\n",
        "            if \"INVALID\" in key:\n",
        "                invalid_keys.append(key)\n",
        "        for i in invalid_keys:\n",
        "            del weather_dist[i]\n",
        "\n",
        "        rtrn['original'] = weather_dist\n",
        "\n",
        "        # generate possible weather keys\n",
        "        pattern_keys = set([item for sublist in weather_dist.values() for item in sublist])\n",
        "\n",
        "        # generate row and column totals\n",
        "        weather_dist_totals = {}\n",
        "        for key, val in weather_dist.items():\n",
        "            weather_dist_totals[key] = sum(collections.Counter(val).values())\n",
        "        genre_totals = {}\n",
        "        for key, val in weather_dist.items():\n",
        "            for genre, count in val.items():\n",
        "                if genre in genre_totals.keys():\n",
        "                    genre_totals[genre] += count\n",
        "                else:\n",
        "                    genre_totals[genre] = count\n",
        "        grand_total = sum(genre_totals.values())\n",
        "        rtrn['row_total'] = weather_dist_totals\n",
        "        rtrn['col_total'] = genre_totals\n",
        "        rtrn['total'] = grand_total\n",
        "\n",
        "        # calculate expected values matrix\n",
        "        expected_values = {}\n",
        "        expected_value_check = False\n",
        "        for key, val in weather_dist.items():\n",
        "            expected = {}\n",
        "            for genre, count in val.items():\n",
        "                expected[genre] = (genre_totals[genre] * weather_dist_totals[key]) / grand_total\n",
        "                if expected[genre] < 5:\n",
        "                    print(\"EXPECTED VALUE ERROR: CONDITIONS INVALID for \" + key + \", \" + genre + \", expected value \" + str(expected[genre]) + \", observed count \" + str(count))\n",
        "                    expected_value_check = True\n",
        "            expected_values[key] = expected\n",
        "\n",
        "        rtrn['expected'] = expected_values\n",
        "        if expected_value_check:\n",
        "            return False\n",
        "\n",
        "        # calculate component values matrix\n",
        "        component_matrix = {}\n",
        "        for key, val in weather_dist.items():\n",
        "            comp = {}\n",
        "            for genre, count in val.items():\n",
        "                expected = expected_values[key][genre]\n",
        "                observed = count\n",
        "                comp[genre] = (observed - expected) ** 2 / expected\n",
        "            component_matrix[key] = comp\n",
        "\n",
        "        rtrn['component'] = component_matrix\n",
        "\n",
        "        # calculate chi-squared total\n",
        "        chi_squared = 0\n",
        "        for key, val in component_matrix.items():\n",
        "            for genre, component in val.items():\n",
        "                chi_squared += component\n",
        "\n",
        "        rtrn['chi_squared'] = chi_squared\n",
        "        #len(list(analyzer.weather_distributions_genres(analyzer.artist_genres(), dist_type=\"temperature\").items())[0][1])\n",
        "\n",
        "        rtrn['p_val'] = stats.distributions.chi2.sf(chi_squared, (len(list(weather_dist.items()))-1) * (len(list(weather_dist.items())[0][1])-1))\n",
        "\n",
        "        return rtrn\n",
        "\n",
        "    def two_samp_z_test(self, x1, n1, x2, n2, diff=0, alt='larger', prop_var=False):\n",
        "        rtrn = {}\n",
        "        phat_c = (x1+x2)/(n1+n2)\n",
        "        rtrn['p1'] = x1/n1\n",
        "        rtrn['p2'] = x2/n2\n",
        "        rtrn['phat_c'] = phat_c\n",
        "        if phat_c * n1 < 10 or (1-phat_c) * n1 < 10 or phat_c * n2 < 10 or (1-phat_c) * n2 < 10:\n",
        "            print(\"EXPECTED VALUE ERROR\")\n",
        "            return -1\n",
        "        stdev = math.sqrt( (phat_c * (1-phat_c) / n1) + (phat_c * (1-phat_c) / n2))\n",
        "        rtrn['SE'] = stdev\n",
        "        z = ( (x1/n1) - (x2/n2) ) / stdev\n",
        "        rtrn['z'] = z\n",
        "        p_val = stats.norm.sf(abs(z))\n",
        "        rtrn['p_val'] = p_val\n",
        "\n",
        "        return rtrn"
      ]
    },
    {
      "cell_type": "markdown",
      "source": [
        "## Execution code\n",
        "Run this code to actually generate results based on our dataset loader and analyzer classes."
      ],
      "metadata": {
        "id": "WgMjJSI48dMl"
      }
    },
    {
      "cell_type": "markdown",
      "source": [
        "Run this only once to properly adjust the working directory."
      ],
      "metadata": {
        "id": "hTQ66JlXYjvM"
      }
    },
    {
      "cell_type": "code",
      "source": [
        "os.chdir(\"drive/My Drive/Colab Notebooks/apstats\")"
      ],
      "metadata": {
        "id": "f_G-o8b3Q839"
      },
      "execution_count": null,
      "outputs": []
    },
    {
      "cell_type": "markdown",
      "source": [
        "Run this to generate all variables and process the dataset."
      ],
      "metadata": {
        "id": "1KpQEygVYokk"
      }
    },
    {
      "cell_type": "code",
      "source": [
        "# IMPORTANT FLAG\n",
        "load = True\n",
        "\n",
        "token = open(\"apitoken.txt\", \"r\").read()\n",
        "apikey = token\n",
        "\n",
        "# ignores\n",
        "ignores = {}\n",
        "ignores[\"Title\"] = open(\"ignore-title.txt\", \"r\").read().split(\",\")\n",
        "ignores[\"Artist\"] = open(\"ignore-artist.txt\", \"r\").read().split(\",\")\n",
        "ignores[\"URL\"] = open(\"ignore-url.txt\", \"r\").read().split(\",\")\n",
        "\n",
        "# loads files into memory\n",
        "filepath = \"watch-history-curated.json\"\n",
        "loader = Loader(duration=True, more_details=True, analyze_year=[\"2021\", \"2022\"], use_songs=True, apikey=apikey, filepath=filepath, ignores=ignores)\n",
        "if load:\n",
        "    history, artists, songs, weather = loader.load(os.getcwd())\n",
        "else:\n",
        "    history, artists, songs, weather = loader.outs()\n",
        "\n",
        "# execute analysis\n",
        "analyzer = Analyzer(history, artists, songs, weather)\n",
        "\n",
        "print(\" - Meta - \")\n",
        "print(\"Dataset overview:\", analyzer.meta())\n",
        "print(\" - Weather - \")\n",
        "print(\"Weather distribution overview\", analyzer.weather_distributions_totals())\n",
        "\n",
        "print(\"All done!\")"
      ],
      "metadata": {
        "id": "HffdIbELSzka",
        "outputId": "aa01103a-b8a2-4084-bdae-68bc990b68d2",
        "colab": {
          "base_uri": "https://localhost:8080/",
          "height": 159
        }
      },
      "execution_count": null,
      "outputs": [
        {
          "output_type": "display_data",
          "data": {
            "text/plain": [
              "<IPython.core.display.HTML object>"
            ],
            "text/html": [
              "\n",
              "            <progress\n",
              "                value='0'\n",
              "                max='100',\n",
              "                style='width: 100%'\n",
              "            >\n",
              "                0\n",
              "            </progress>\n",
              "        "
            ]
          },
          "metadata": {}
        },
        {
          "output_type": "stream",
          "name": "stdout",
          "text": [
            "Loading your preprocessed history files\n",
            " - Meta - \n",
            "Dataset overview: {'Total Seconds': 3350813, 'Total Songs': 13735, 'Unique Songs': 3205, 'Unique Artists': 1274}\n",
            " - Weather - \n",
            "Weather distribution overview {'Cool;Partly cloudy': 3017, 'Warm;Partly cloudy': 1146, 'Cool;Clear': 2775, 'Cool;Overcast': 3652, 'Cool;Rain': 426, 'Warm;Clear': 755, 'Warm;Rain': 32, 'Warm;Overcast': 588, 'Cool;INVALID': 192, 'Cold;Partly cloudy': 164, 'Cold;Overcast': 259, 'Cold;Clear': 497, 'Cold;Snow': 65, 'Cool;Snow': 77, 'Cold;INVALID': 51, 'Cold;Rain': 13, 'Warm;INVALID': 9, 'INVALID;INVALID': 17}\n",
            "All done!\n"
          ]
        }
      ]
    },
    {
      "cell_type": "markdown",
      "source": [
        "### Visualizing the data"
      ],
      "metadata": {
        "id": "oyZv2cuc9edo"
      }
    },
    {
      "cell_type": "code",
      "source": [
        "colors={\"electronic\": \"C0\", \"hip hop\": \"C1\", \"pop\": \"C2\", \"rock\": \"C3\"}"
      ],
      "metadata": {
        "id": "gMLZ9EIHr1ZC"
      },
      "execution_count": null,
      "outputs": []
    },
    {
      "cell_type": "code",
      "source": [
        "# visualizes genres\n",
        "counts = []\n",
        "genres = []\n",
        "for k, v in analyzer.weather_chi_squared(analyzer.weather_distributions_genres(analyzer.artist_genres(), dist_type=\"temperature\"))['col_total'].items():\n",
        "    counts.append(v)\n",
        "    genres.append(k)\n",
        "plt.title(\"Overall distribution of genres\")\n",
        "plt.pie(counts, labels=genres, autopct=\"%1.1f%%\", colors=[colors[key] for key in genres])\n",
        "plt.show()"
      ],
      "metadata": {
        "id": "qWMMNMxU9C02",
        "outputId": "2e5de223-aa1d-4d71-9e59-3dd0c5327ad0",
        "colab": {
          "base_uri": "https://localhost:8080/",
          "height": 264
        }
      },
      "execution_count": null,
      "outputs": [
        {
          "output_type": "display_data",
          "data": {
            "text/plain": [
              "<Figure size 432x288 with 1 Axes>"
            ],
            "image/png": "[encoded data removed]"
          },
          "metadata": {}
        }
      ]
    },
    {
      "cell_type": "code",
      "source": [
        "# visualizes weather\n",
        "counts = []\n",
        "genres = []\n",
        "for k, v in analyzer.weather_chi_squared(analyzer.weather_distributions_genres(analyzer.artist_genres(), dist_type='weather'))['row_total'].items():\n",
        "    counts.append(v)\n",
        "    genres.append(k)\n",
        "plt.title(\"Overall distribution of weather\")\n",
        "plt.pie(counts, labels=genres, autopct=\"%1.1f%%\")\n",
        "plt.show()"
      ],
      "metadata": {
        "id": "Ph4BQT9wboj5",
        "outputId": "76327a8d-f42a-4e72-daeb-a20ec8605ef7",
        "colab": {
          "base_uri": "https://localhost:8080/",
          "height": 264
        }
      },
      "execution_count": null,
      "outputs": [
        {
          "output_type": "display_data",
          "data": {
            "text/plain": [
              "<Figure size 432x288 with 1 Axes>"
            ],
            "image/png": "[encoded data removed]"
          },
          "metadata": {}
        }
      ]
    },
    {
      "cell_type": "code",
      "source": [
        "# visualizes weather\n",
        "counts = []\n",
        "genres = []\n",
        "for k, v in analyzer.weather_chi_squared(analyzer.weather_distributions_genres(analyzer.artist_genres(), dist_type='temperature'))['row_total'].items():\n",
        "    counts.append(v)\n",
        "    genres.append(k)\n",
        "plt.title(\"Overall distribution of temperature\")\n",
        "plt.pie(counts, labels=genres, autopct=\"%1.1f%%\")\n",
        "plt.show()"
      ],
      "metadata": {
        "id": "hkmOylCubrv3",
        "outputId": "34f6ef61-c6ec-4708-f2f1-a96ba65feac7",
        "colab": {
          "base_uri": "https://localhost:8080/",
          "height": 264
        }
      },
      "execution_count": null,
      "outputs": [
        {
          "output_type": "display_data",
          "data": {
            "text/plain": [
              "<Figure size 432x288 with 1 Axes>"
            ],
            "image/png": "[encoded data removed]"
          },
          "metadata": {}
        }
      ]
    },
    {
      "cell_type": "code",
      "source": [
        "def plotvar(dist_type, variation):\n",
        "    counts = []\n",
        "    genres = []\n",
        "    for k, v in analyzer.weather_distributions_genres(analyzer.artist_genres(), dist_type=dist_type)[variation].items():\n",
        "        counts.append(v)\n",
        "        genres.append(k)\n",
        "    plt.title(\"Overall distribution of genres across \" + variation.lower() + \" \" + dist_type.lower())\n",
        "    plt.pie(counts, labels=genres, autopct=\"%1.1f%%\", colors=[colors[key] for key in genres])\n",
        "    plt.show()"
      ],
      "metadata": {
        "id": "6WKDlhzQsT9r"
      },
      "execution_count": null,
      "outputs": []
    },
    {
      "cell_type": "code",
      "source": [
        "# visualizes cool temp dist\n",
        "plotvar(\"temperature\", \"Cool\")"
      ],
      "metadata": {
        "colab": {
          "base_uri": "https://localhost:8080/",
          "height": 264
        },
        "id": "0YAG3Y1rqQwY",
        "outputId": "1f9fe801-d4b3-4979-a0ad-2de940e68e3e"
      },
      "execution_count": null,
      "outputs": [
        {
          "output_type": "display_data",
          "data": {
            "text/plain": [
              "<Figure size 432x288 with 1 Axes>"
            ],
            "image/png": "[encoded data removed]"
          },
          "metadata": {}
        }
      ]
    },
    {
      "cell_type": "code",
      "source": [
        "# visualizes warm temp dist\n",
        "plotvar(\"temperature\", \"Warm\")"
      ],
      "metadata": {
        "colab": {
          "base_uri": "https://localhost:8080/",
          "height": 264
        },
        "id": "by5xFYgYqa4I",
        "outputId": "3fda1d93-fcc1-46e2-984c-7b1a51f8621d"
      },
      "execution_count": null,
      "outputs": [
        {
          "output_type": "display_data",
          "data": {
            "text/plain": [
              "<Figure size 432x288 with 1 Axes>"
            ],
            "image/png": "[encoded data removed]"
          },
          "metadata": {}
        }
      ]
    },
    {
      "cell_type": "code",
      "source": [
        "# visualizes cold temp dist\n",
        "plotvar(\"temperature\", \"Cold\")"
      ],
      "metadata": {
        "colab": {
          "base_uri": "https://localhost:8080/",
          "height": 264
        },
        "id": "RJSInS4Rqa94",
        "outputId": "1343350e-eeef-4df9-e2b4-271425798834"
      },
      "execution_count": null,
      "outputs": [
        {
          "output_type": "display_data",
          "data": {
            "text/plain": [
              "<Figure size 432x288 with 1 Axes>"
            ],
            "image/png": "[encoded data removed]"
          },
          "metadata": {}
        }
      ]
    },
    {
      "cell_type": "code",
      "source": [
        "# visualizes clear weather dist\n",
        "plotvar(\"weather\", \"Clear\")"
      ],
      "metadata": {
        "colab": {
          "base_uri": "https://localhost:8080/",
          "height": 264
        },
        "id": "qf0akOMYs9VB",
        "outputId": "8866e48d-df26-4594-a71d-c22e3e8e9403"
      },
      "execution_count": null,
      "outputs": [
        {
          "output_type": "display_data",
          "data": {
            "text/plain": [
              "<Figure size 432x288 with 1 Axes>"
            ],
            "image/png": "[encoded data removed]"
          },
          "metadata": {}
        }
      ]
    },
    {
      "cell_type": "code",
      "source": [
        "# visualizes clear weather dist\n",
        "plotvar(\"weather\", \"Overcast\")"
      ],
      "metadata": {
        "colab": {
          "base_uri": "https://localhost:8080/",
          "height": 264
        },
        "id": "_by6FrlstCk0",
        "outputId": "d72daa82-3c5f-459e-9355-7056c4193830"
      },
      "execution_count": null,
      "outputs": [
        {
          "output_type": "display_data",
          "data": {
            "text/plain": [
              "<Figure size 432x288 with 1 Axes>"
            ],
            "image/png": "[encoded data removed]"
          },
          "metadata": {}
        }
      ]
    },
    {
      "cell_type": "code",
      "source": [
        "# visualizes clear weather dist\n",
        "plotvar(\"weather\", \"Partly cloudy\")"
      ],
      "metadata": {
        "colab": {
          "base_uri": "https://localhost:8080/",
          "height": 264
        },
        "id": "3n-6RXWYtCuG",
        "outputId": "06b9788a-292a-4a20-e413-fd6bdb0f2423"
      },
      "execution_count": null,
      "outputs": [
        {
          "output_type": "display_data",
          "data": {
            "text/plain": [
              "<Figure size 432x288 with 1 Axes>"
            ],
            "image/png": "[encoded data removed]"
          },
          "metadata": {}
        }
      ]
    },
    {
      "cell_type": "code",
      "source": [
        "# visualizes clear weather dist\n",
        "plotvar(\"weather\", \"Rain\")"
      ],
      "metadata": {
        "colab": {
          "base_uri": "https://localhost:8080/",
          "height": 264
        },
        "id": "VM_9rOFwtC3q",
        "outputId": "27446ddf-ebc5-491a-d4fb-c01b03cf69a2"
      },
      "execution_count": null,
      "outputs": [
        {
          "output_type": "display_data",
          "data": {
            "text/plain": [
              "<Figure size 432x288 with 1 Axes>"
            ],
            "image/png": "[encoded data removed]"
          },
          "metadata": {}
        }
      ]
    },
    {
      "cell_type": "code",
      "source": [
        "# visualizes clear weather dist\n",
        "plotvar(\"weather\", \"Snow\")"
      ],
      "metadata": {
        "colab": {
          "base_uri": "https://localhost:8080/",
          "height": 264
        },
        "id": "bO5i1fqGtC0U",
        "outputId": "94b40bea-04bd-41a7-eeba-af60951d2af4"
      },
      "execution_count": null,
      "outputs": [
        {
          "output_type": "display_data",
          "data": {
            "text/plain": [
              "<Figure size 432x288 with 1 Axes>"
            ],
            "image/png": "[encoded data removed]"
          },
          "metadata": {}
        }
      ]
    },
    {
      "cell_type": "markdown",
      "source": [
        "### Chi-Squared Test\n",
        "Run two chi-squared tests for homogeneity: one for the distribution of genre depending on the temperature (for this dataset 'warm' 'cool' and 'cold'), and another for the distribution of genre depending on the weather (for this dataset 'partly cloudy' 'clear' 'overcast' 'rain' and 'snow')"
      ],
      "metadata": {
        "id": "lN21hUcL9GuE"
      }
    },
    {
      "cell_type": "code",
      "source": [
        "# chi-squared values for each distribution\n",
        "weather_distribution = analyzer.weather_chi_squared(analyzer.weather_distributions_genres(analyzer.artist_genres(), dist_type=\"weather\"))\n",
        "temperature_distribution = analyzer.weather_chi_squared(analyzer.weather_distributions_genres(analyzer.artist_genres(), dist_type=\"temperature\"))\n",
        "print(\"Chi squared for temperature\", temperature_distribution['chi_squared'])\n",
        "print(\"Chi squared for weather\", weather_distribution['chi_squared'])\n",
        "print(\"Cumulative p-val for temperature\", weather_distribution['p_val'])\n",
        "print(\"Cumulative p-val for weather\", temperature_distribution['p_val'])"
      ],
      "metadata": {
        "id": "5VNg4-dLw36o",
        "outputId": "0978de8b-8a4f-44fd-b235-260e95ca505d",
        "colab": {
          "base_uri": "https://localhost:8080/"
        }
      },
      "execution_count": null,
      "outputs": [
        {
          "output_type": "stream",
          "name": "stdout",
          "text": [
            "Chi squared for temperature 190.62469635947392\n",
            "Chi squared for weather 98.14270381218185\n",
            "Cumulative p-val for temperature 1.2857272252759642e-15\n",
            "Cumulative p-val for weather 1.873932277940912e-38\n"
          ]
        }
      ]
    },
    {
      "cell_type": "code",
      "source": [
        "# original values for the temperature distribution\n",
        "pd.DataFrame(temperature_distribution['original'])"
      ],
      "metadata": {
        "id": "iVU4mLTs8Rcp",
        "outputId": "bc0c5bd9-b961-4a2e-8108-14d3ff4598a5",
        "colab": {
          "base_uri": "https://localhost:8080/",
          "height": 175
        }
      },
      "execution_count": null,
      "outputs": [
        {
          "output_type": "execute_result",
          "data": {
            "text/plain": [
              "            Cool  Warm  Cold\n",
              "electronic  3715   801   267\n",
              "rock        1846   638   249\n",
              "pop         3583  1070   321\n",
              "hip hop     3232   709   461"
            ],
            "text/html": [
              "\n",
              "  <div id=\"df-0e218ed0-29c1-48e4-8cb7-a1aaa9175a67\">\n",
              "    <div class=\"colab-df-container\">\n",
              "      <div>\n",
              "<style scoped>\n",
              "    .dataframe tbody tr th:only-of-type {\n",
              "        vertical-align: middle;\n",
              "    }\n",
              "\n",
              "    .dataframe tbody tr th {\n",
              "        vertical-align: top;\n",
              "    }\n",
              "\n",
              "    .dataframe thead th {\n",
              "        text-align: right;\n",
              "    }\n",
              "</style>\n",
              "<table border=\"1\" class=\"dataframe\">\n",
              "  <thead>\n",
              "    <tr style=\"text-align: right;\">\n",
              "      <th></th>\n",
              "      <th>Cool</th>\n",
              "      <th>Warm</th>\n",
              "      <th>Cold</th>\n",
              "    </tr>\n",
              "  </thead>\n",
              "  <tbody>\n",
              "    <tr>\n",
              "      <th>electronic</th>\n",
              "      <td>3715</td>\n",
              "      <td>801</td>\n",
              "      <td>267</td>\n",
              "    </tr>\n",
              "    <tr>\n",
              "      <th>rock</th>\n",
              "      <td>1846</td>\n",
              "      <td>638</td>\n",
              "      <td>249</td>\n",
              "    </tr>\n",
              "    <tr>\n",
              "      <th>pop</th>\n",
              "      <td>3583</td>\n",
              "      <td>1070</td>\n",
              "      <td>321</td>\n",
              "    </tr>\n",
              "    <tr>\n",
              "      <th>hip hop</th>\n",
              "      <td>3232</td>\n",
              "      <td>709</td>\n",
              "      <td>461</td>\n",
              "    </tr>\n",
              "  </tbody>\n",
              "</table>\n",
              "</div>\n",
              "      <button class=\"colab-df-convert\" onclick=\"convertToInteractive('df-0e218ed0-29c1-48e4-8cb7-a1aaa9175a67')\"\n",
              "              title=\"Convert this dataframe to an interactive table.\"\n",
              "              style=\"display:none;\">\n",
              "        \n",
              "  <svg xmlns=\"http://www.w3.org/2000/svg\" height=\"24px\"viewBox=\"0 0 24 24\"\n",
              "       width=\"24px\">\n",
              "    <path d=\"M0 0h24v24H0V0z\" fill=\"none\"/>\n",
              "    <path d=\"M18.56 5.44l.94 2.06.94-2.06 2.06-.94-2.06-.94-.94-2.06-.94 2.06-2.06.94zm-11 1L8.5 8.5l.94-2.06 2.06-.94-2.06-.94L8.5 2.5l-.94 2.06-2.06.94zm10 10l.94 2.06.94-2.06 2.06-.94-2.06-.94-.94-2.06-.94 2.06-2.06.94z\"/><path d=\"M17.41 7.96l-1.37-1.37c-.4-.4-.92-.59-1.43-.59-.52 0-1.04.2-1.43.59L10.3 9.45l-7.72 7.72c-.78.78-.78 2.05 0 2.83L4 21.41c.39.39.9.59 1.41.59.51 0 1.02-.2 1.41-.59l7.78-7.78 2.81-2.81c.8-.78.8-2.07 0-2.86zM5.41 20L4 18.59l7.72-7.72 1.47 1.35L5.41 20z\"/>\n",
              "  </svg>\n",
              "      </button>\n",
              "      \n",
              "  <style>\n",
              "    .colab-df-container {\n",
              "      display:flex;\n",
              "      flex-wrap:wrap;\n",
              "      gap: 12px;\n",
              "    }\n",
              "\n",
              "    .colab-df-convert {\n",
              "      background-color: #E8F0FE;\n",
              "      border: none;\n",
              "      border-radius: 50%;\n",
              "      cursor: pointer;\n",
              "      display: none;\n",
              "      fill: #1967D2;\n",
              "      height: 32px;\n",
              "      padding: 0 0 0 0;\n",
              "      width: 32px;\n",
              "    }\n",
              "\n",
              "    .colab-df-convert:hover {\n",
              "      background-color: #E2EBFA;\n",
              "      box-shadow: 0px 1px 2px rgba(60, 64, 67, 0.3), 0px 1px 3px 1px rgba(60, 64, 67, 0.15);\n",
              "      fill: #174EA6;\n",
              "    }\n",
              "\n",
              "    [theme=dark] .colab-df-convert {\n",
              "      background-color: #3B4455;\n",
              "      fill: #D2E3FC;\n",
              "    }\n",
              "\n",
              "    [theme=dark] .colab-df-convert:hover {\n",
              "      background-color: #434B5C;\n",
              "      box-shadow: 0px 1px 3px 1px rgba(0, 0, 0, 0.15);\n",
              "      filter: drop-shadow(0px 1px 2px rgba(0, 0, 0, 0.3));\n",
              "      fill: #FFFFFF;\n",
              "    }\n",
              "  </style>\n",
              "\n",
              "      <script>\n",
              "        const buttonEl =\n",
              "          document.querySelector('#df-0e218ed0-29c1-48e4-8cb7-a1aaa9175a67 button.colab-df-convert');\n",
              "        buttonEl.style.display =\n",
              "          google.colab.kernel.accessAllowed ? 'block' : 'none';\n",
              "\n",
              "        async function convertToInteractive(key) {\n",
              "          const element = document.querySelector('#df-0e218ed0-29c1-48e4-8cb7-a1aaa9175a67');\n",
              "          const dataTable =\n",
              "            await google.colab.kernel.invokeFunction('convertToInteractive',\n",
              "                                                     [key], {});\n",
              "          if (!dataTable) return;\n",
              "\n",
              "          const docLinkHtml = 'Like what you see? Visit the ' +\n",
              "            '<a target=\"_blank\" href=https://colab.research.google.com/notebooks/data_table.ipynb>data table notebook</a>'\n",
              "            + ' to learn more about interactive tables.';\n",
              "          element.innerHTML = '';\n",
              "          dataTable['output_type'] = 'display_data';\n",
              "          await google.colab.output.renderOutput(dataTable, element);\n",
              "          const docLink = document.createElement('div');\n",
              "          docLink.innerHTML = docLinkHtml;\n",
              "          element.appendChild(docLink);\n",
              "        }\n",
              "      </script>\n",
              "    </div>\n",
              "  </div>\n",
              "  "
            ]
          },
          "metadata": {},
          "execution_count": 66
        }
      ]
    },
    {
      "cell_type": "code",
      "source": [
        "# expected values for the temperature distribution\n",
        "pd.DataFrame(temperature_distribution['expected'])"
      ],
      "metadata": {
        "id": "LnYWmrd94yNu",
        "outputId": "71dcc919-0689-4421-84a7-3de846df9a42",
        "colab": {
          "base_uri": "https://localhost:8080/",
          "height": 175
        }
      },
      "execution_count": null,
      "outputs": [
        {
          "output_type": "execute_result",
          "data": {
            "text/plain": [
              "                   Cool        Warm        Cold\n",
              "electronic  3504.286526  911.182453  367.531021\n",
              "rock        2002.344779  520.648473  210.006749\n",
              "pop         3644.223538  947.568790  382.207672\n",
              "hip hop     3225.145157  838.600284  338.254558"
            ],
            "text/html": [
              "\n",
              "  <div id=\"df-b30d66d2-f603-4eed-b970-e4383ab0709d\">\n",
              "    <div class=\"colab-df-container\">\n",
              "      <div>\n",
              "<style scoped>\n",
              "    .dataframe tbody tr th:only-of-type {\n",
              "        vertical-align: middle;\n",
              "    }\n",
              "\n",
              "    .dataframe tbody tr th {\n",
              "        vertical-align: top;\n",
              "    }\n",
              "\n",
              "    .dataframe thead th {\n",
              "        text-align: right;\n",
              "    }\n",
              "</style>\n",
              "<table border=\"1\" class=\"dataframe\">\n",
              "  <thead>\n",
              "    <tr style=\"text-align: right;\">\n",
              "      <th></th>\n",
              "      <th>Cool</th>\n",
              "      <th>Warm</th>\n",
              "      <th>Cold</th>\n",
              "    </tr>\n",
              "  </thead>\n",
              "  <tbody>\n",
              "    <tr>\n",
              "      <th>electronic</th>\n",
              "      <td>3504.286526</td>\n",
              "      <td>911.182453</td>\n",
              "      <td>367.531021</td>\n",
              "    </tr>\n",
              "    <tr>\n",
              "      <th>rock</th>\n",
              "      <td>2002.344779</td>\n",
              "      <td>520.648473</td>\n",
              "      <td>210.006749</td>\n",
              "    </tr>\n",
              "    <tr>\n",
              "      <th>pop</th>\n",
              "      <td>3644.223538</td>\n",
              "      <td>947.568790</td>\n",
              "      <td>382.207672</td>\n",
              "    </tr>\n",
              "    <tr>\n",
              "      <th>hip hop</th>\n",
              "      <td>3225.145157</td>\n",
              "      <td>838.600284</td>\n",
              "      <td>338.254558</td>\n",
              "    </tr>\n",
              "  </tbody>\n",
              "</table>\n",
              "</div>\n",
              "      <button class=\"colab-df-convert\" onclick=\"convertToInteractive('df-b30d66d2-f603-4eed-b970-e4383ab0709d')\"\n",
              "              title=\"Convert this dataframe to an interactive table.\"\n",
              "              style=\"display:none;\">\n",
              "        \n",
              "  <svg xmlns=\"http://www.w3.org/2000/svg\" height=\"24px\"viewBox=\"0 0 24 24\"\n",
              "       width=\"24px\">\n",
              "    <path d=\"M0 0h24v24H0V0z\" fill=\"none\"/>\n",
              "    <path d=\"M18.56 5.44l.94 2.06.94-2.06 2.06-.94-2.06-.94-.94-2.06-.94 2.06-2.06.94zm-11 1L8.5 8.5l.94-2.06 2.06-.94-2.06-.94L8.5 2.5l-.94 2.06-2.06.94zm10 10l.94 2.06.94-2.06 2.06-.94-2.06-.94-.94-2.06-.94 2.06-2.06.94z\"/><path d=\"M17.41 7.96l-1.37-1.37c-.4-.4-.92-.59-1.43-.59-.52 0-1.04.2-1.43.59L10.3 9.45l-7.72 7.72c-.78.78-.78 2.05 0 2.83L4 21.41c.39.39.9.59 1.41.59.51 0 1.02-.2 1.41-.59l7.78-7.78 2.81-2.81c.8-.78.8-2.07 0-2.86zM5.41 20L4 18.59l7.72-7.72 1.47 1.35L5.41 20z\"/>\n",
              "  </svg>\n",
              "      </button>\n",
              "      \n",
              "  <style>\n",
              "    .colab-df-container {\n",
              "      display:flex;\n",
              "      flex-wrap:wrap;\n",
              "      gap: 12px;\n",
              "    }\n",
              "\n",
              "    .colab-df-convert {\n",
              "      background-color: #E8F0FE;\n",
              "      border: none;\n",
              "      border-radius: 50%;\n",
              "      cursor: pointer;\n",
              "      display: none;\n",
              "      fill: #1967D2;\n",
              "      height: 32px;\n",
              "      padding: 0 0 0 0;\n",
              "      width: 32px;\n",
              "    }\n",
              "\n",
              "    .colab-df-convert:hover {\n",
              "      background-color: #E2EBFA;\n",
              "      box-shadow: 0px 1px 2px rgba(60, 64, 67, 0.3), 0px 1px 3px 1px rgba(60, 64, 67, 0.15);\n",
              "      fill: #174EA6;\n",
              "    }\n",
              "\n",
              "    [theme=dark] .colab-df-convert {\n",
              "      background-color: #3B4455;\n",
              "      fill: #D2E3FC;\n",
              "    }\n",
              "\n",
              "    [theme=dark] .colab-df-convert:hover {\n",
              "      background-color: #434B5C;\n",
              "      box-shadow: 0px 1px 3px 1px rgba(0, 0, 0, 0.15);\n",
              "      filter: drop-shadow(0px 1px 2px rgba(0, 0, 0, 0.3));\n",
              "      fill: #FFFFFF;\n",
              "    }\n",
              "  </style>\n",
              "\n",
              "      <script>\n",
              "        const buttonEl =\n",
              "          document.querySelector('#df-b30d66d2-f603-4eed-b970-e4383ab0709d button.colab-df-convert');\n",
              "        buttonEl.style.display =\n",
              "          google.colab.kernel.accessAllowed ? 'block' : 'none';\n",
              "\n",
              "        async function convertToInteractive(key) {\n",
              "          const element = document.querySelector('#df-b30d66d2-f603-4eed-b970-e4383ab0709d');\n",
              "          const dataTable =\n",
              "            await google.colab.kernel.invokeFunction('convertToInteractive',\n",
              "                                                     [key], {});\n",
              "          if (!dataTable) return;\n",
              "\n",
              "          const docLinkHtml = 'Like what you see? Visit the ' +\n",
              "            '<a target=\"_blank\" href=https://colab.research.google.com/notebooks/data_table.ipynb>data table notebook</a>'\n",
              "            + ' to learn more about interactive tables.';\n",
              "          element.innerHTML = '';\n",
              "          dataTable['output_type'] = 'display_data';\n",
              "          await google.colab.output.renderOutput(dataTable, element);\n",
              "          const docLink = document.createElement('div');\n",
              "          docLink.innerHTML = docLinkHtml;\n",
              "          element.appendChild(docLink);\n",
              "        }\n",
              "      </script>\n",
              "    </div>\n",
              "  </div>\n",
              "  "
            ]
          },
          "metadata": {},
          "execution_count": 67
        }
      ]
    },
    {
      "cell_type": "code",
      "source": [
        "# difference original-expected for the temperature distribution\n",
        "pd.DataFrame(temperature_distribution['original']) - pd.DataFrame(temperature_distribution['expected'])"
      ],
      "metadata": {
        "id": "Ahw8WCCf43V3",
        "outputId": "5926ee60-20a2-4cbc-c737-70552d1becde",
        "colab": {
          "base_uri": "https://localhost:8080/",
          "height": 175
        }
      },
      "execution_count": null,
      "outputs": [
        {
          "output_type": "execute_result",
          "data": {
            "text/plain": [
              "                  Cool        Warm        Cold\n",
              "electronic  210.713474 -110.182453 -100.531021\n",
              "rock       -156.344779  117.351527   38.993251\n",
              "pop         -61.223538  122.431210  -61.207672\n",
              "hip hop       6.854843 -129.600284  122.745442"
            ],
            "text/html": [
              "\n",
              "  <div id=\"df-c65f75db-ed63-4bed-895a-c8649f722a10\">\n",
              "    <div class=\"colab-df-container\">\n",
              "      <div>\n",
              "<style scoped>\n",
              "    .dataframe tbody tr th:only-of-type {\n",
              "        vertical-align: middle;\n",
              "    }\n",
              "\n",
              "    .dataframe tbody tr th {\n",
              "        vertical-align: top;\n",
              "    }\n",
              "\n",
              "    .dataframe thead th {\n",
              "        text-align: right;\n",
              "    }\n",
              "</style>\n",
              "<table border=\"1\" class=\"dataframe\">\n",
              "  <thead>\n",
              "    <tr style=\"text-align: right;\">\n",
              "      <th></th>\n",
              "      <th>Cool</th>\n",
              "      <th>Warm</th>\n",
              "      <th>Cold</th>\n",
              "    </tr>\n",
              "  </thead>\n",
              "  <tbody>\n",
              "    <tr>\n",
              "      <th>electronic</th>\n",
              "      <td>210.713474</td>\n",
              "      <td>-110.182453</td>\n",
              "      <td>-100.531021</td>\n",
              "    </tr>\n",
              "    <tr>\n",
              "      <th>rock</th>\n",
              "      <td>-156.344779</td>\n",
              "      <td>117.351527</td>\n",
              "      <td>38.993251</td>\n",
              "    </tr>\n",
              "    <tr>\n",
              "      <th>pop</th>\n",
              "      <td>-61.223538</td>\n",
              "      <td>122.431210</td>\n",
              "      <td>-61.207672</td>\n",
              "    </tr>\n",
              "    <tr>\n",
              "      <th>hip hop</th>\n",
              "      <td>6.854843</td>\n",
              "      <td>-129.600284</td>\n",
              "      <td>122.745442</td>\n",
              "    </tr>\n",
              "  </tbody>\n",
              "</table>\n",
              "</div>\n",
              "      <button class=\"colab-df-convert\" onclick=\"convertToInteractive('df-c65f75db-ed63-4bed-895a-c8649f722a10')\"\n",
              "              title=\"Convert this dataframe to an interactive table.\"\n",
              "              style=\"display:none;\">\n",
              "        \n",
              "  <svg xmlns=\"http://www.w3.org/2000/svg\" height=\"24px\"viewBox=\"0 0 24 24\"\n",
              "       width=\"24px\">\n",
              "    <path d=\"M0 0h24v24H0V0z\" fill=\"none\"/>\n",
              "    <path d=\"M18.56 5.44l.94 2.06.94-2.06 2.06-.94-2.06-.94-.94-2.06-.94 2.06-2.06.94zm-11 1L8.5 8.5l.94-2.06 2.06-.94-2.06-.94L8.5 2.5l-.94 2.06-2.06.94zm10 10l.94 2.06.94-2.06 2.06-.94-2.06-.94-.94-2.06-.94 2.06-2.06.94z\"/><path d=\"M17.41 7.96l-1.37-1.37c-.4-.4-.92-.59-1.43-.59-.52 0-1.04.2-1.43.59L10.3 9.45l-7.72 7.72c-.78.78-.78 2.05 0 2.83L4 21.41c.39.39.9.59 1.41.59.51 0 1.02-.2 1.41-.59l7.78-7.78 2.81-2.81c.8-.78.8-2.07 0-2.86zM5.41 20L4 18.59l7.72-7.72 1.47 1.35L5.41 20z\"/>\n",
              "  </svg>\n",
              "      </button>\n",
              "      \n",
              "  <style>\n",
              "    .colab-df-container {\n",
              "      display:flex;\n",
              "      flex-wrap:wrap;\n",
              "      gap: 12px;\n",
              "    }\n",
              "\n",
              "    .colab-df-convert {\n",
              "      background-color: #E8F0FE;\n",
              "      border: none;\n",
              "      border-radius: 50%;\n",
              "      cursor: pointer;\n",
              "      display: none;\n",
              "      fill: #1967D2;\n",
              "      height: 32px;\n",
              "      padding: 0 0 0 0;\n",
              "      width: 32px;\n",
              "    }\n",
              "\n",
              "    .colab-df-convert:hover {\n",
              "      background-color: #E2EBFA;\n",
              "      box-shadow: 0px 1px 2px rgba(60, 64, 67, 0.3), 0px 1px 3px 1px rgba(60, 64, 67, 0.15);\n",
              "      fill: #174EA6;\n",
              "    }\n",
              "\n",
              "    [theme=dark] .colab-df-convert {\n",
              "      background-color: #3B4455;\n",
              "      fill: #D2E3FC;\n",
              "    }\n",
              "\n",
              "    [theme=dark] .colab-df-convert:hover {\n",
              "      background-color: #434B5C;\n",
              "      box-shadow: 0px 1px 3px 1px rgba(0, 0, 0, 0.15);\n",
              "      filter: drop-shadow(0px 1px 2px rgba(0, 0, 0, 0.3));\n",
              "      fill: #FFFFFF;\n",
              "    }\n",
              "  </style>\n",
              "\n",
              "      <script>\n",
              "        const buttonEl =\n",
              "          document.querySelector('#df-c65f75db-ed63-4bed-895a-c8649f722a10 button.colab-df-convert');\n",
              "        buttonEl.style.display =\n",
              "          google.colab.kernel.accessAllowed ? 'block' : 'none';\n",
              "\n",
              "        async function convertToInteractive(key) {\n",
              "          const element = document.querySelector('#df-c65f75db-ed63-4bed-895a-c8649f722a10');\n",
              "          const dataTable =\n",
              "            await google.colab.kernel.invokeFunction('convertToInteractive',\n",
              "                                                     [key], {});\n",
              "          if (!dataTable) return;\n",
              "\n",
              "          const docLinkHtml = 'Like what you see? Visit the ' +\n",
              "            '<a target=\"_blank\" href=https://colab.research.google.com/notebooks/data_table.ipynb>data table notebook</a>'\n",
              "            + ' to learn more about interactive tables.';\n",
              "          element.innerHTML = '';\n",
              "          dataTable['output_type'] = 'display_data';\n",
              "          await google.colab.output.renderOutput(dataTable, element);\n",
              "          const docLink = document.createElement('div');\n",
              "          docLink.innerHTML = docLinkHtml;\n",
              "          element.appendChild(docLink);\n",
              "        }\n",
              "      </script>\n",
              "    </div>\n",
              "  </div>\n",
              "  "
            ]
          },
          "metadata": {},
          "execution_count": 68
        }
      ]
    },
    {
      "cell_type": "code",
      "source": [
        "# component matrix for the temperature distribution\n",
        "pd.DataFrame(temperature_distribution['component'])"
      ],
      "metadata": {
        "id": "vpQB0Xgc7ggP",
        "outputId": "a470171d-3b11-4c66-8159-771a3111e80a",
        "colab": {
          "base_uri": "https://localhost:8080/",
          "height": 175
        }
      },
      "execution_count": null,
      "outputs": [
        {
          "output_type": "execute_result",
          "data": {
            "text/plain": [
              "                 Cool       Warm       Cold\n",
              "electronic  12.670245  13.323537  27.498321\n",
              "rock        12.207533  26.450440   7.240118\n",
              "pop          1.028565  15.818800   9.801946\n",
              "hip hop      0.014570  20.028891  44.541731"
            ],
            "text/html": [
              "\n",
              "  <div id=\"df-f866df12-3953-4405-bc74-e30155cabcef\">\n",
              "    <div class=\"colab-df-container\">\n",
              "      <div>\n",
              "<style scoped>\n",
              "    .dataframe tbody tr th:only-of-type {\n",
              "        vertical-align: middle;\n",
              "    }\n",
              "\n",
              "    .dataframe tbody tr th {\n",
              "        vertical-align: top;\n",
              "    }\n",
              "\n",
              "    .dataframe thead th {\n",
              "        text-align: right;\n",
              "    }\n",
              "</style>\n",
              "<table border=\"1\" class=\"dataframe\">\n",
              "  <thead>\n",
              "    <tr style=\"text-align: right;\">\n",
              "      <th></th>\n",
              "      <th>Cool</th>\n",
              "      <th>Warm</th>\n",
              "      <th>Cold</th>\n",
              "    </tr>\n",
              "  </thead>\n",
              "  <tbody>\n",
              "    <tr>\n",
              "      <th>electronic</th>\n",
              "      <td>12.670245</td>\n",
              "      <td>13.323537</td>\n",
              "      <td>27.498321</td>\n",
              "    </tr>\n",
              "    <tr>\n",
              "      <th>rock</th>\n",
              "      <td>12.207533</td>\n",
              "      <td>26.450440</td>\n",
              "      <td>7.240118</td>\n",
              "    </tr>\n",
              "    <tr>\n",
              "      <th>pop</th>\n",
              "      <td>1.028565</td>\n",
              "      <td>15.818800</td>\n",
              "      <td>9.801946</td>\n",
              "    </tr>\n",
              "    <tr>\n",
              "      <th>hip hop</th>\n",
              "      <td>0.014570</td>\n",
              "      <td>20.028891</td>\n",
              "      <td>44.541731</td>\n",
              "    </tr>\n",
              "  </tbody>\n",
              "</table>\n",
              "</div>\n",
              "      <button class=\"colab-df-convert\" onclick=\"convertToInteractive('df-f866df12-3953-4405-bc74-e30155cabcef')\"\n",
              "              title=\"Convert this dataframe to an interactive table.\"\n",
              "              style=\"display:none;\">\n",
              "        \n",
              "  <svg xmlns=\"http://www.w3.org/2000/svg\" height=\"24px\"viewBox=\"0 0 24 24\"\n",
              "       width=\"24px\">\n",
              "    <path d=\"M0 0h24v24H0V0z\" fill=\"none\"/>\n",
              "    <path d=\"M18.56 5.44l.94 2.06.94-2.06 2.06-.94-2.06-.94-.94-2.06-.94 2.06-2.06.94zm-11 1L8.5 8.5l.94-2.06 2.06-.94-2.06-.94L8.5 2.5l-.94 2.06-2.06.94zm10 10l.94 2.06.94-2.06 2.06-.94-2.06-.94-.94-2.06-.94 2.06-2.06.94z\"/><path d=\"M17.41 7.96l-1.37-1.37c-.4-.4-.92-.59-1.43-.59-.52 0-1.04.2-1.43.59L10.3 9.45l-7.72 7.72c-.78.78-.78 2.05 0 2.83L4 21.41c.39.39.9.59 1.41.59.51 0 1.02-.2 1.41-.59l7.78-7.78 2.81-2.81c.8-.78.8-2.07 0-2.86zM5.41 20L4 18.59l7.72-7.72 1.47 1.35L5.41 20z\"/>\n",
              "  </svg>\n",
              "      </button>\n",
              "      \n",
              "  <style>\n",
              "    .colab-df-container {\n",
              "      display:flex;\n",
              "      flex-wrap:wrap;\n",
              "      gap: 12px;\n",
              "    }\n",
              "\n",
              "    .colab-df-convert {\n",
              "      background-color: #E8F0FE;\n",
              "      border: none;\n",
              "      border-radius: 50%;\n",
              "      cursor: pointer;\n",
              "      display: none;\n",
              "      fill: #1967D2;\n",
              "      height: 32px;\n",
              "      padding: 0 0 0 0;\n",
              "      width: 32px;\n",
              "    }\n",
              "\n",
              "    .colab-df-convert:hover {\n",
              "      background-color: #E2EBFA;\n",
              "      box-shadow: 0px 1px 2px rgba(60, 64, 67, 0.3), 0px 1px 3px 1px rgba(60, 64, 67, 0.15);\n",
              "      fill: #174EA6;\n",
              "    }\n",
              "\n",
              "    [theme=dark] .colab-df-convert {\n",
              "      background-color: #3B4455;\n",
              "      fill: #D2E3FC;\n",
              "    }\n",
              "\n",
              "    [theme=dark] .colab-df-convert:hover {\n",
              "      background-color: #434B5C;\n",
              "      box-shadow: 0px 1px 3px 1px rgba(0, 0, 0, 0.15);\n",
              "      filter: drop-shadow(0px 1px 2px rgba(0, 0, 0, 0.3));\n",
              "      fill: #FFFFFF;\n",
              "    }\n",
              "  </style>\n",
              "\n",
              "      <script>\n",
              "        const buttonEl =\n",
              "          document.querySelector('#df-f866df12-3953-4405-bc74-e30155cabcef button.colab-df-convert');\n",
              "        buttonEl.style.display =\n",
              "          google.colab.kernel.accessAllowed ? 'block' : 'none';\n",
              "\n",
              "        async function convertToInteractive(key) {\n",
              "          const element = document.querySelector('#df-f866df12-3953-4405-bc74-e30155cabcef');\n",
              "          const dataTable =\n",
              "            await google.colab.kernel.invokeFunction('convertToInteractive',\n",
              "                                                     [key], {});\n",
              "          if (!dataTable) return;\n",
              "\n",
              "          const docLinkHtml = 'Like what you see? Visit the ' +\n",
              "            '<a target=\"_blank\" href=https://colab.research.google.com/notebooks/data_table.ipynb>data table notebook</a>'\n",
              "            + ' to learn more about interactive tables.';\n",
              "          element.innerHTML = '';\n",
              "          dataTable['output_type'] = 'display_data';\n",
              "          await google.colab.output.renderOutput(dataTable, element);\n",
              "          const docLink = document.createElement('div');\n",
              "          docLink.innerHTML = docLinkHtml;\n",
              "          element.appendChild(docLink);\n",
              "        }\n",
              "      </script>\n",
              "    </div>\n",
              "  </div>\n",
              "  "
            ]
          },
          "metadata": {},
          "execution_count": 69
        }
      ]
    },
    {
      "cell_type": "code",
      "source": [
        "# original values for the weather distribution\n",
        "pd.DataFrame(weather_distribution['original'])"
      ],
      "metadata": {
        "id": "z8qn0iUb8ReQ",
        "outputId": "81f70b87-e400-49ef-c0fa-47d7e12d05d5",
        "colab": {
          "base_uri": "https://localhost:8080/",
          "height": 175
        }
      },
      "execution_count": null,
      "outputs": [
        {
          "output_type": "execute_result",
          "data": {
            "text/plain": [
              "            Partly cloudy  Clear  Overcast  Rain  Snow\n",
              "electronic           1520   1226      1731   162    59\n",
              "rock                  939    796       838    74    40\n",
              "hip hop              1313   1400      1406   158    33\n",
              "pop                  1524   1604      1572   167    38"
            ],
            "text/html": [
              "\n",
              "  <div id=\"df-98e624e4-b8a3-4e7a-8838-ef9f24cbb959\">\n",
              "    <div class=\"colab-df-container\">\n",
              "      <div>\n",
              "<style scoped>\n",
              "    .dataframe tbody tr th:only-of-type {\n",
              "        vertical-align: middle;\n",
              "    }\n",
              "\n",
              "    .dataframe tbody tr th {\n",
              "        vertical-align: top;\n",
              "    }\n",
              "\n",
              "    .dataframe thead th {\n",
              "        text-align: right;\n",
              "    }\n",
              "</style>\n",
              "<table border=\"1\" class=\"dataframe\">\n",
              "  <thead>\n",
              "    <tr style=\"text-align: right;\">\n",
              "      <th></th>\n",
              "      <th>Partly cloudy</th>\n",
              "      <th>Clear</th>\n",
              "      <th>Overcast</th>\n",
              "      <th>Rain</th>\n",
              "      <th>Snow</th>\n",
              "    </tr>\n",
              "  </thead>\n",
              "  <tbody>\n",
              "    <tr>\n",
              "      <th>electronic</th>\n",
              "      <td>1520</td>\n",
              "      <td>1226</td>\n",
              "      <td>1731</td>\n",
              "      <td>162</td>\n",
              "      <td>59</td>\n",
              "    </tr>\n",
              "    <tr>\n",
              "      <th>rock</th>\n",
              "      <td>939</td>\n",
              "      <td>796</td>\n",
              "      <td>838</td>\n",
              "      <td>74</td>\n",
              "      <td>40</td>\n",
              "    </tr>\n",
              "    <tr>\n",
              "      <th>hip hop</th>\n",
              "      <td>1313</td>\n",
              "      <td>1400</td>\n",
              "      <td>1406</td>\n",
              "      <td>158</td>\n",
              "      <td>33</td>\n",
              "    </tr>\n",
              "    <tr>\n",
              "      <th>pop</th>\n",
              "      <td>1524</td>\n",
              "      <td>1604</td>\n",
              "      <td>1572</td>\n",
              "      <td>167</td>\n",
              "      <td>38</td>\n",
              "    </tr>\n",
              "  </tbody>\n",
              "</table>\n",
              "</div>\n",
              "      <button class=\"colab-df-convert\" onclick=\"convertToInteractive('df-98e624e4-b8a3-4e7a-8838-ef9f24cbb959')\"\n",
              "              title=\"Convert this dataframe to an interactive table.\"\n",
              "              style=\"display:none;\">\n",
              "        \n",
              "  <svg xmlns=\"http://www.w3.org/2000/svg\" height=\"24px\"viewBox=\"0 0 24 24\"\n",
              "       width=\"24px\">\n",
              "    <path d=\"M0 0h24v24H0V0z\" fill=\"none\"/>\n",
              "    <path d=\"M18.56 5.44l.94 2.06.94-2.06 2.06-.94-2.06-.94-.94-2.06-.94 2.06-2.06.94zm-11 1L8.5 8.5l.94-2.06 2.06-.94-2.06-.94L8.5 2.5l-.94 2.06-2.06.94zm10 10l.94 2.06.94-2.06 2.06-.94-2.06-.94-.94-2.06-.94 2.06-2.06.94z\"/><path d=\"M17.41 7.96l-1.37-1.37c-.4-.4-.92-.59-1.43-.59-.52 0-1.04.2-1.43.59L10.3 9.45l-7.72 7.72c-.78.78-.78 2.05 0 2.83L4 21.41c.39.39.9.59 1.41.59.51 0 1.02-.2 1.41-.59l7.78-7.78 2.81-2.81c.8-.78.8-2.07 0-2.86zM5.41 20L4 18.59l7.72-7.72 1.47 1.35L5.41 20z\"/>\n",
              "  </svg>\n",
              "      </button>\n",
              "      \n",
              "  <style>\n",
              "    .colab-df-container {\n",
              "      display:flex;\n",
              "      flex-wrap:wrap;\n",
              "      gap: 12px;\n",
              "    }\n",
              "\n",
              "    .colab-df-convert {\n",
              "      background-color: #E8F0FE;\n",
              "      border: none;\n",
              "      border-radius: 50%;\n",
              "      cursor: pointer;\n",
              "      display: none;\n",
              "      fill: #1967D2;\n",
              "      height: 32px;\n",
              "      padding: 0 0 0 0;\n",
              "      width: 32px;\n",
              "    }\n",
              "\n",
              "    .colab-df-convert:hover {\n",
              "      background-color: #E2EBFA;\n",
              "      box-shadow: 0px 1px 2px rgba(60, 64, 67, 0.3), 0px 1px 3px 1px rgba(60, 64, 67, 0.15);\n",
              "      fill: #174EA6;\n",
              "    }\n",
              "\n",
              "    [theme=dark] .colab-df-convert {\n",
              "      background-color: #3B4455;\n",
              "      fill: #D2E3FC;\n",
              "    }\n",
              "\n",
              "    [theme=dark] .colab-df-convert:hover {\n",
              "      background-color: #434B5C;\n",
              "      box-shadow: 0px 1px 3px 1px rgba(0, 0, 0, 0.15);\n",
              "      filter: drop-shadow(0px 1px 2px rgba(0, 0, 0, 0.3));\n",
              "      fill: #FFFFFF;\n",
              "    }\n",
              "  </style>\n",
              "\n",
              "      <script>\n",
              "        const buttonEl =\n",
              "          document.querySelector('#df-98e624e4-b8a3-4e7a-8838-ef9f24cbb959 button.colab-df-convert');\n",
              "        buttonEl.style.display =\n",
              "          google.colab.kernel.accessAllowed ? 'block' : 'none';\n",
              "\n",
              "        async function convertToInteractive(key) {\n",
              "          const element = document.querySelector('#df-98e624e4-b8a3-4e7a-8838-ef9f24cbb959');\n",
              "          const dataTable =\n",
              "            await google.colab.kernel.invokeFunction('convertToInteractive',\n",
              "                                                     [key], {});\n",
              "          if (!dataTable) return;\n",
              "\n",
              "          const docLinkHtml = 'Like what you see? Visit the ' +\n",
              "            '<a target=\"_blank\" href=https://colab.research.google.com/notebooks/data_table.ipynb>data table notebook</a>'\n",
              "            + ' to learn more about interactive tables.';\n",
              "          element.innerHTML = '';\n",
              "          dataTable['output_type'] = 'display_data';\n",
              "          await google.colab.output.renderOutput(dataTable, element);\n",
              "          const docLink = document.createElement('div');\n",
              "          docLink.innerHTML = docLinkHtml;\n",
              "          element.appendChild(docLink);\n",
              "        }\n",
              "      </script>\n",
              "    </div>\n",
              "  </div>\n",
              "  "
            ]
          },
          "metadata": {},
          "execution_count": 70
        }
      ]
    },
    {
      "cell_type": "code",
      "source": [
        "# expected values for the weather distribution\n",
        "pd.DataFrame(weather_distribution['expected'])"
      ],
      "metadata": {
        "id": "Rk1WbSUA8SV4",
        "outputId": "1e474fd4-28fe-48a1-b78a-f28ab8c89248",
        "colab": {
          "base_uri": "https://localhost:8080/",
          "height": 175
        }
      },
      "execution_count": null,
      "outputs": [
        {
          "output_type": "execute_result",
          "data": {
            "text/plain": [
              "            Partly cloudy        Clear     Overcast        Rain       Snow\n",
              "electronic    1498.831807  1422.418554  1569.867831  158.769759  48.112048\n",
              "rock           857.250120   813.545904   897.878855   90.807651  27.517470\n",
              "hip hop       1375.045783  1304.943373  1440.215060  145.657229  44.138554\n",
              "pop           1564.872289  1485.092169  1639.038253  165.765361  50.231928"
            ],
            "text/html": [
              "\n",
              "  <div id=\"df-20855fd1-b1b6-446a-bb1f-fdd83c558727\">\n",
              "    <div class=\"colab-df-container\">\n",
              "      <div>\n",
              "<style scoped>\n",
              "    .dataframe tbody tr th:only-of-type {\n",
              "        vertical-align: middle;\n",
              "    }\n",
              "\n",
              "    .dataframe tbody tr th {\n",
              "        vertical-align: top;\n",
              "    }\n",
              "\n",
              "    .dataframe thead th {\n",
              "        text-align: right;\n",
              "    }\n",
              "</style>\n",
              "<table border=\"1\" class=\"dataframe\">\n",
              "  <thead>\n",
              "    <tr style=\"text-align: right;\">\n",
              "      <th></th>\n",
              "      <th>Partly cloudy</th>\n",
              "      <th>Clear</th>\n",
              "      <th>Overcast</th>\n",
              "      <th>Rain</th>\n",
              "      <th>Snow</th>\n",
              "    </tr>\n",
              "  </thead>\n",
              "  <tbody>\n",
              "    <tr>\n",
              "      <th>electronic</th>\n",
              "      <td>1498.831807</td>\n",
              "      <td>1422.418554</td>\n",
              "      <td>1569.867831</td>\n",
              "      <td>158.769759</td>\n",
              "      <td>48.112048</td>\n",
              "    </tr>\n",
              "    <tr>\n",
              "      <th>rock</th>\n",
              "      <td>857.250120</td>\n",
              "      <td>813.545904</td>\n",
              "      <td>897.878855</td>\n",
              "      <td>90.807651</td>\n",
              "      <td>27.517470</td>\n",
              "    </tr>\n",
              "    <tr>\n",
              "      <th>hip hop</th>\n",
              "      <td>1375.045783</td>\n",
              "      <td>1304.943373</td>\n",
              "      <td>1440.215060</td>\n",
              "      <td>145.657229</td>\n",
              "      <td>44.138554</td>\n",
              "    </tr>\n",
              "    <tr>\n",
              "      <th>pop</th>\n",
              "      <td>1564.872289</td>\n",
              "      <td>1485.092169</td>\n",
              "      <td>1639.038253</td>\n",
              "      <td>165.765361</td>\n",
              "      <td>50.231928</td>\n",
              "    </tr>\n",
              "  </tbody>\n",
              "</table>\n",
              "</div>\n",
              "      <button class=\"colab-df-convert\" onclick=\"convertToInteractive('df-20855fd1-b1b6-446a-bb1f-fdd83c558727')\"\n",
              "              title=\"Convert this dataframe to an interactive table.\"\n",
              "              style=\"display:none;\">\n",
              "        \n",
              "  <svg xmlns=\"http://www.w3.org/2000/svg\" height=\"24px\"viewBox=\"0 0 24 24\"\n",
              "       width=\"24px\">\n",
              "    <path d=\"M0 0h24v24H0V0z\" fill=\"none\"/>\n",
              "    <path d=\"M18.56 5.44l.94 2.06.94-2.06 2.06-.94-2.06-.94-.94-2.06-.94 2.06-2.06.94zm-11 1L8.5 8.5l.94-2.06 2.06-.94-2.06-.94L8.5 2.5l-.94 2.06-2.06.94zm10 10l.94 2.06.94-2.06 2.06-.94-2.06-.94-.94-2.06-.94 2.06-2.06.94z\"/><path d=\"M17.41 7.96l-1.37-1.37c-.4-.4-.92-.59-1.43-.59-.52 0-1.04.2-1.43.59L10.3 9.45l-7.72 7.72c-.78.78-.78 2.05 0 2.83L4 21.41c.39.39.9.59 1.41.59.51 0 1.02-.2 1.41-.59l7.78-7.78 2.81-2.81c.8-.78.8-2.07 0-2.86zM5.41 20L4 18.59l7.72-7.72 1.47 1.35L5.41 20z\"/>\n",
              "  </svg>\n",
              "      </button>\n",
              "      \n",
              "  <style>\n",
              "    .colab-df-container {\n",
              "      display:flex;\n",
              "      flex-wrap:wrap;\n",
              "      gap: 12px;\n",
              "    }\n",
              "\n",
              "    .colab-df-convert {\n",
              "      background-color: #E8F0FE;\n",
              "      border: none;\n",
              "      border-radius: 50%;\n",
              "      cursor: pointer;\n",
              "      display: none;\n",
              "      fill: #1967D2;\n",
              "      height: 32px;\n",
              "      padding: 0 0 0 0;\n",
              "      width: 32px;\n",
              "    }\n",
              "\n",
              "    .colab-df-convert:hover {\n",
              "      background-color: #E2EBFA;\n",
              "      box-shadow: 0px 1px 2px rgba(60, 64, 67, 0.3), 0px 1px 3px 1px rgba(60, 64, 67, 0.15);\n",
              "      fill: #174EA6;\n",
              "    }\n",
              "\n",
              "    [theme=dark] .colab-df-convert {\n",
              "      background-color: #3B4455;\n",
              "      fill: #D2E3FC;\n",
              "    }\n",
              "\n",
              "    [theme=dark] .colab-df-convert:hover {\n",
              "      background-color: #434B5C;\n",
              "      box-shadow: 0px 1px 3px 1px rgba(0, 0, 0, 0.15);\n",
              "      filter: drop-shadow(0px 1px 2px rgba(0, 0, 0, 0.3));\n",
              "      fill: #FFFFFF;\n",
              "    }\n",
              "  </style>\n",
              "\n",
              "      <script>\n",
              "        const buttonEl =\n",
              "          document.querySelector('#df-20855fd1-b1b6-446a-bb1f-fdd83c558727 button.colab-df-convert');\n",
              "        buttonEl.style.display =\n",
              "          google.colab.kernel.accessAllowed ? 'block' : 'none';\n",
              "\n",
              "        async function convertToInteractive(key) {\n",
              "          const element = document.querySelector('#df-20855fd1-b1b6-446a-bb1f-fdd83c558727');\n",
              "          const dataTable =\n",
              "            await google.colab.kernel.invokeFunction('convertToInteractive',\n",
              "                                                     [key], {});\n",
              "          if (!dataTable) return;\n",
              "\n",
              "          const docLinkHtml = 'Like what you see? Visit the ' +\n",
              "            '<a target=\"_blank\" href=https://colab.research.google.com/notebooks/data_table.ipynb>data table notebook</a>'\n",
              "            + ' to learn more about interactive tables.';\n",
              "          element.innerHTML = '';\n",
              "          dataTable['output_type'] = 'display_data';\n",
              "          await google.colab.output.renderOutput(dataTable, element);\n",
              "          const docLink = document.createElement('div');\n",
              "          docLink.innerHTML = docLinkHtml;\n",
              "          element.appendChild(docLink);\n",
              "        }\n",
              "      </script>\n",
              "    </div>\n",
              "  </div>\n",
              "  "
            ]
          },
          "metadata": {},
          "execution_count": 71
        }
      ]
    },
    {
      "cell_type": "code",
      "source": [
        "# difference original-expected for the weather distribution\n",
        "pd.DataFrame(weather_distribution['original']) - pd.DataFrame(weather_distribution['expected'])"
      ],
      "metadata": {
        "id": "q4DbP9pp4mGC",
        "outputId": "cc9f1399-0d01-4308-a771-dac273401ba2",
        "colab": {
          "base_uri": "https://localhost:8080/",
          "height": 175
        }
      },
      "execution_count": null,
      "outputs": [
        {
          "output_type": "execute_result",
          "data": {
            "text/plain": [
              "            Partly cloudy       Clear    Overcast       Rain       Snow\n",
              "electronic      21.168193 -196.418554  161.132169   3.230241  10.887952\n",
              "rock            81.749880  -17.545904  -59.878855 -16.807651  12.482530\n",
              "hip hop        -62.045783   95.056627  -34.215060  12.342771 -11.138554\n",
              "pop            -40.872289  118.907831  -67.038253   1.234639 -12.231928"
            ],
            "text/html": [
              "\n",
              "  <div id=\"df-6373b516-ce4c-4a65-8f8f-c7790f82970c\">\n",
              "    <div class=\"colab-df-container\">\n",
              "      <div>\n",
              "<style scoped>\n",
              "    .dataframe tbody tr th:only-of-type {\n",
              "        vertical-align: middle;\n",
              "    }\n",
              "\n",
              "    .dataframe tbody tr th {\n",
              "        vertical-align: top;\n",
              "    }\n",
              "\n",
              "    .dataframe thead th {\n",
              "        text-align: right;\n",
              "    }\n",
              "</style>\n",
              "<table border=\"1\" class=\"dataframe\">\n",
              "  <thead>\n",
              "    <tr style=\"text-align: right;\">\n",
              "      <th></th>\n",
              "      <th>Partly cloudy</th>\n",
              "      <th>Clear</th>\n",
              "      <th>Overcast</th>\n",
              "      <th>Rain</th>\n",
              "      <th>Snow</th>\n",
              "    </tr>\n",
              "  </thead>\n",
              "  <tbody>\n",
              "    <tr>\n",
              "      <th>electronic</th>\n",
              "      <td>21.168193</td>\n",
              "      <td>-196.418554</td>\n",
              "      <td>161.132169</td>\n",
              "      <td>3.230241</td>\n",
              "      <td>10.887952</td>\n",
              "    </tr>\n",
              "    <tr>\n",
              "      <th>rock</th>\n",
              "      <td>81.749880</td>\n",
              "      <td>-17.545904</td>\n",
              "      <td>-59.878855</td>\n",
              "      <td>-16.807651</td>\n",
              "      <td>12.482530</td>\n",
              "    </tr>\n",
              "    <tr>\n",
              "      <th>hip hop</th>\n",
              "      <td>-62.045783</td>\n",
              "      <td>95.056627</td>\n",
              "      <td>-34.215060</td>\n",
              "      <td>12.342771</td>\n",
              "      <td>-11.138554</td>\n",
              "    </tr>\n",
              "    <tr>\n",
              "      <th>pop</th>\n",
              "      <td>-40.872289</td>\n",
              "      <td>118.907831</td>\n",
              "      <td>-67.038253</td>\n",
              "      <td>1.234639</td>\n",
              "      <td>-12.231928</td>\n",
              "    </tr>\n",
              "  </tbody>\n",
              "</table>\n",
              "</div>\n",
              "      <button class=\"colab-df-convert\" onclick=\"convertToInteractive('df-6373b516-ce4c-4a65-8f8f-c7790f82970c')\"\n",
              "              title=\"Convert this dataframe to an interactive table.\"\n",
              "              style=\"display:none;\">\n",
              "        \n",
              "  <svg xmlns=\"http://www.w3.org/2000/svg\" height=\"24px\"viewBox=\"0 0 24 24\"\n",
              "       width=\"24px\">\n",
              "    <path d=\"M0 0h24v24H0V0z\" fill=\"none\"/>\n",
              "    <path d=\"M18.56 5.44l.94 2.06.94-2.06 2.06-.94-2.06-.94-.94-2.06-.94 2.06-2.06.94zm-11 1L8.5 8.5l.94-2.06 2.06-.94-2.06-.94L8.5 2.5l-.94 2.06-2.06.94zm10 10l.94 2.06.94-2.06 2.06-.94-2.06-.94-.94-2.06-.94 2.06-2.06.94z\"/><path d=\"M17.41 7.96l-1.37-1.37c-.4-.4-.92-.59-1.43-.59-.52 0-1.04.2-1.43.59L10.3 9.45l-7.72 7.72c-.78.78-.78 2.05 0 2.83L4 21.41c.39.39.9.59 1.41.59.51 0 1.02-.2 1.41-.59l7.78-7.78 2.81-2.81c.8-.78.8-2.07 0-2.86zM5.41 20L4 18.59l7.72-7.72 1.47 1.35L5.41 20z\"/>\n",
              "  </svg>\n",
              "      </button>\n",
              "      \n",
              "  <style>\n",
              "    .colab-df-container {\n",
              "      display:flex;\n",
              "      flex-wrap:wrap;\n",
              "      gap: 12px;\n",
              "    }\n",
              "\n",
              "    .colab-df-convert {\n",
              "      background-color: #E8F0FE;\n",
              "      border: none;\n",
              "      border-radius: 50%;\n",
              "      cursor: pointer;\n",
              "      display: none;\n",
              "      fill: #1967D2;\n",
              "      height: 32px;\n",
              "      padding: 0 0 0 0;\n",
              "      width: 32px;\n",
              "    }\n",
              "\n",
              "    .colab-df-convert:hover {\n",
              "      background-color: #E2EBFA;\n",
              "      box-shadow: 0px 1px 2px rgba(60, 64, 67, 0.3), 0px 1px 3px 1px rgba(60, 64, 67, 0.15);\n",
              "      fill: #174EA6;\n",
              "    }\n",
              "\n",
              "    [theme=dark] .colab-df-convert {\n",
              "      background-color: #3B4455;\n",
              "      fill: #D2E3FC;\n",
              "    }\n",
              "\n",
              "    [theme=dark] .colab-df-convert:hover {\n",
              "      background-color: #434B5C;\n",
              "      box-shadow: 0px 1px 3px 1px rgba(0, 0, 0, 0.15);\n",
              "      filter: drop-shadow(0px 1px 2px rgba(0, 0, 0, 0.3));\n",
              "      fill: #FFFFFF;\n",
              "    }\n",
              "  </style>\n",
              "\n",
              "      <script>\n",
              "        const buttonEl =\n",
              "          document.querySelector('#df-6373b516-ce4c-4a65-8f8f-c7790f82970c button.colab-df-convert');\n",
              "        buttonEl.style.display =\n",
              "          google.colab.kernel.accessAllowed ? 'block' : 'none';\n",
              "\n",
              "        async function convertToInteractive(key) {\n",
              "          const element = document.querySelector('#df-6373b516-ce4c-4a65-8f8f-c7790f82970c');\n",
              "          const dataTable =\n",
              "            await google.colab.kernel.invokeFunction('convertToInteractive',\n",
              "                                                     [key], {});\n",
              "          if (!dataTable) return;\n",
              "\n",
              "          const docLinkHtml = 'Like what you see? Visit the ' +\n",
              "            '<a target=\"_blank\" href=https://colab.research.google.com/notebooks/data_table.ipynb>data table notebook</a>'\n",
              "            + ' to learn more about interactive tables.';\n",
              "          element.innerHTML = '';\n",
              "          dataTable['output_type'] = 'display_data';\n",
              "          await google.colab.output.renderOutput(dataTable, element);\n",
              "          const docLink = document.createElement('div');\n",
              "          docLink.innerHTML = docLinkHtml;\n",
              "          element.appendChild(docLink);\n",
              "        }\n",
              "      </script>\n",
              "    </div>\n",
              "  </div>\n",
              "  "
            ]
          },
          "metadata": {},
          "execution_count": 72
        }
      ]
    },
    {
      "cell_type": "code",
      "source": [
        "# component matrix for the weather distribution\n",
        "pd.DataFrame(weather_distribution['component'])"
      ],
      "metadata": {
        "id": "jLO-Io4779S1",
        "outputId": "b66d30de-15ed-4aca-b3f1-0a1b5305146e",
        "colab": {
          "base_uri": "https://localhost:8080/",
          "height": 175
        }
      },
      "execution_count": null,
      "outputs": [
        {
          "output_type": "execute_result",
          "data": {
            "text/plain": [
              "            Partly cloudy      Clear   Overcast      Rain      Snow\n",
              "electronic       0.298961  27.122993  16.538702  0.065721  2.463988\n",
              "rock             7.795908   0.378416   3.993275  3.110940  5.662350\n",
              "pop              1.067527   9.520670   2.741930  0.009196  2.978585\n",
              "hip hop          2.799673   6.924256   0.812844  1.045908  2.810862"
            ],
            "text/html": [
              "\n",
              "  <div id=\"df-35dc3186-f6c9-41c4-9ee2-798ee77dbe34\">\n",
              "    <div class=\"colab-df-container\">\n",
              "      <div>\n",
              "<style scoped>\n",
              "    .dataframe tbody tr th:only-of-type {\n",
              "        vertical-align: middle;\n",
              "    }\n",
              "\n",
              "    .dataframe tbody tr th {\n",
              "        vertical-align: top;\n",
              "    }\n",
              "\n",
              "    .dataframe thead th {\n",
              "        text-align: right;\n",
              "    }\n",
              "</style>\n",
              "<table border=\"1\" class=\"dataframe\">\n",
              "  <thead>\n",
              "    <tr style=\"text-align: right;\">\n",
              "      <th></th>\n",
              "      <th>Partly cloudy</th>\n",
              "      <th>Clear</th>\n",
              "      <th>Overcast</th>\n",
              "      <th>Rain</th>\n",
              "      <th>Snow</th>\n",
              "    </tr>\n",
              "  </thead>\n",
              "  <tbody>\n",
              "    <tr>\n",
              "      <th>electronic</th>\n",
              "      <td>0.298961</td>\n",
              "      <td>27.122993</td>\n",
              "      <td>16.538702</td>\n",
              "      <td>0.065721</td>\n",
              "      <td>2.463988</td>\n",
              "    </tr>\n",
              "    <tr>\n",
              "      <th>rock</th>\n",
              "      <td>7.795908</td>\n",
              "      <td>0.378416</td>\n",
              "      <td>3.993275</td>\n",
              "      <td>3.110940</td>\n",
              "      <td>5.662350</td>\n",
              "    </tr>\n",
              "    <tr>\n",
              "      <th>pop</th>\n",
              "      <td>1.067527</td>\n",
              "      <td>9.520670</td>\n",
              "      <td>2.741930</td>\n",
              "      <td>0.009196</td>\n",
              "      <td>2.978585</td>\n",
              "    </tr>\n",
              "    <tr>\n",
              "      <th>hip hop</th>\n",
              "      <td>2.799673</td>\n",
              "      <td>6.924256</td>\n",
              "      <td>0.812844</td>\n",
              "      <td>1.045908</td>\n",
              "      <td>2.810862</td>\n",
              "    </tr>\n",
              "  </tbody>\n",
              "</table>\n",
              "</div>\n",
              "      <button class=\"colab-df-convert\" onclick=\"convertToInteractive('df-35dc3186-f6c9-41c4-9ee2-798ee77dbe34')\"\n",
              "              title=\"Convert this dataframe to an interactive table.\"\n",
              "              style=\"display:none;\">\n",
              "        \n",
              "  <svg xmlns=\"http://www.w3.org/2000/svg\" height=\"24px\"viewBox=\"0 0 24 24\"\n",
              "       width=\"24px\">\n",
              "    <path d=\"M0 0h24v24H0V0z\" fill=\"none\"/>\n",
              "    <path d=\"M18.56 5.44l.94 2.06.94-2.06 2.06-.94-2.06-.94-.94-2.06-.94 2.06-2.06.94zm-11 1L8.5 8.5l.94-2.06 2.06-.94-2.06-.94L8.5 2.5l-.94 2.06-2.06.94zm10 10l.94 2.06.94-2.06 2.06-.94-2.06-.94-.94-2.06-.94 2.06-2.06.94z\"/><path d=\"M17.41 7.96l-1.37-1.37c-.4-.4-.92-.59-1.43-.59-.52 0-1.04.2-1.43.59L10.3 9.45l-7.72 7.72c-.78.78-.78 2.05 0 2.83L4 21.41c.39.39.9.59 1.41.59.51 0 1.02-.2 1.41-.59l7.78-7.78 2.81-2.81c.8-.78.8-2.07 0-2.86zM5.41 20L4 18.59l7.72-7.72 1.47 1.35L5.41 20z\"/>\n",
              "  </svg>\n",
              "      </button>\n",
              "      \n",
              "  <style>\n",
              "    .colab-df-container {\n",
              "      display:flex;\n",
              "      flex-wrap:wrap;\n",
              "      gap: 12px;\n",
              "    }\n",
              "\n",
              "    .colab-df-convert {\n",
              "      background-color: #E8F0FE;\n",
              "      border: none;\n",
              "      border-radius: 50%;\n",
              "      cursor: pointer;\n",
              "      display: none;\n",
              "      fill: #1967D2;\n",
              "      height: 32px;\n",
              "      padding: 0 0 0 0;\n",
              "      width: 32px;\n",
              "    }\n",
              "\n",
              "    .colab-df-convert:hover {\n",
              "      background-color: #E2EBFA;\n",
              "      box-shadow: 0px 1px 2px rgba(60, 64, 67, 0.3), 0px 1px 3px 1px rgba(60, 64, 67, 0.15);\n",
              "      fill: #174EA6;\n",
              "    }\n",
              "\n",
              "    [theme=dark] .colab-df-convert {\n",
              "      background-color: #3B4455;\n",
              "      fill: #D2E3FC;\n",
              "    }\n",
              "\n",
              "    [theme=dark] .colab-df-convert:hover {\n",
              "      background-color: #434B5C;\n",
              "      box-shadow: 0px 1px 3px 1px rgba(0, 0, 0, 0.15);\n",
              "      filter: drop-shadow(0px 1px 2px rgba(0, 0, 0, 0.3));\n",
              "      fill: #FFFFFF;\n",
              "    }\n",
              "  </style>\n",
              "\n",
              "      <script>\n",
              "        const buttonEl =\n",
              "          document.querySelector('#df-35dc3186-f6c9-41c4-9ee2-798ee77dbe34 button.colab-df-convert');\n",
              "        buttonEl.style.display =\n",
              "          google.colab.kernel.accessAllowed ? 'block' : 'none';\n",
              "\n",
              "        async function convertToInteractive(key) {\n",
              "          const element = document.querySelector('#df-35dc3186-f6c9-41c4-9ee2-798ee77dbe34');\n",
              "          const dataTable =\n",
              "            await google.colab.kernel.invokeFunction('convertToInteractive',\n",
              "                                                     [key], {});\n",
              "          if (!dataTable) return;\n",
              "\n",
              "          const docLinkHtml = 'Like what you see? Visit the ' +\n",
              "            '<a target=\"_blank\" href=https://colab.research.google.com/notebooks/data_table.ipynb>data table notebook</a>'\n",
              "            + ' to learn more about interactive tables.';\n",
              "          element.innerHTML = '';\n",
              "          dataTable['output_type'] = 'display_data';\n",
              "          await google.colab.output.renderOutput(dataTable, element);\n",
              "          const docLink = document.createElement('div');\n",
              "          docLink.innerHTML = docLinkHtml;\n",
              "          element.appendChild(docLink);\n",
              "        }\n",
              "      </script>\n",
              "    </div>\n",
              "  </div>\n",
              "  "
            ]
          },
          "metadata": {},
          "execution_count": 11
        }
      ]
    },
    {
      "cell_type": "code",
      "source": [
        "# relative frequencies for temperature distribution\n",
        "x = pd.DataFrame(weather_distribution['expected'])\n",
        "for k, v in x.items():\n",
        "    for i in v:\n",
        "        print(round(i/sum(v), 2))\n",
        "    print()"
      ],
      "metadata": {
        "id": "4rQiAjs7YgGt",
        "colab": {
          "base_uri": "https://localhost:8080/"
        },
        "outputId": "3328cacf-df20-4e54-da80-647676631470"
      },
      "execution_count": null,
      "outputs": [
        {
          "output_type": "stream",
          "name": "stdout",
          "text": [
            "0.28\n",
            "0.16\n",
            "0.3\n",
            "0.26\n",
            "\n",
            "0.28\n",
            "0.16\n",
            "0.3\n",
            "0.26\n",
            "\n",
            "0.28\n",
            "0.16\n",
            "0.3\n",
            "0.26\n",
            "\n",
            "0.28\n",
            "0.16\n",
            "0.3\n",
            "0.26\n",
            "\n",
            "0.28\n",
            "0.16\n",
            "0.3\n",
            "0.26\n",
            "\n"
          ]
        }
      ]
    },
    {
      "cell_type": "markdown",
      "source": [
        "We run into an issue when we try to do the same combining both distributions--we can't run a chi-squared test for homogeneity on these because not all expected counts are >= 5."
      ],
      "metadata": {
        "id": "X5KiU9i_913Q"
      }
    },
    {
      "cell_type": "code",
      "source": [
        "dist = analyzer.weather_chi_squared(analyzer.weather_distributions_genres(analyzer.artist_genres(), dist_type=\"both\"))"
      ],
      "metadata": {
        "id": "eDL6oTQe887V",
        "outputId": "602811a8-bc93-4fb8-975f-f21d5c7fa396",
        "colab": {
          "base_uri": "https://localhost:8080/"
        }
      },
      "execution_count": null,
      "outputs": [
        {
          "output_type": "stream",
          "name": "stdout",
          "text": [
            "EXPECTED VALUE ERROR: CONDITIONS INVALID for Cold;Rain, pop, expected value 4.136746987951807, observed count 8\n",
            "EXPECTED VALUE ERROR: CONDITIONS INVALID for Cold;Rain, rock, expected value 2.266144578313253, observed count 2\n",
            "EXPECTED VALUE ERROR: CONDITIONS INVALID for Cold;Rain, hip hop, expected value 3.6349397590361447, observed count 3\n",
            "EXPECTED VALUE ERROR: CONDITIONS INVALID for Cold;Rain, electronic, expected value 3.962168674698795, observed count 1\n"
          ]
        }
      ]
    },
    {
      "cell_type": "markdown",
      "source": [
        "We can see based on the component and difference matrices that several trends emerge across both distributions.\n",
        "\n",
        "Let's run a few tests to see how unusual these high components and differences are compared to each other. We'll compare different genres across the same weather."
      ],
      "metadata": {
        "id": "I1FTrMxfHBOJ"
      }
    },
    {
      "cell_type": "markdown",
      "source": [
        "### Two-proportion Z tests"
      ],
      "metadata": {
        "id": "Jq7GbPrHa_QK"
      }
    },
    {
      "cell_type": "code",
      "source": [
        "w = weather_distribution['original']\n",
        "wr = weather_distribution['row_total']\n",
        "t = temperature_distribution['original']\n",
        "tr = temperature_distribution['row_total']"
      ],
      "metadata": {
        "id": "PmaIh42PXt_t"
      },
      "execution_count": null,
      "outputs": []
    },
    {
      "cell_type": "code",
      "source": [
        "def hypothesis_general_form(t1, t2, t3, comp=\"more\"):\n",
        "    return \"Is it statistically unlikely that I do not listen to \" + comp + \" \" + t1 + \" music than \" + t2 + \" music on \" + t3 + \" days?\"\n",
        "\n",
        "def do_ztest(t1, t2, t3, dist, row, comp=\"more\"):\n",
        "    print(hypothesis_general_form(t1, t2, t3.lower(), comp=comp))\n",
        "    return analyzer.two_samp_z_test(dist[t3][t1], row[t3], dist[t3][t2], row[t3])"
      ],
      "metadata": {
        "id": "x1Re7kanYs7J"
      },
      "execution_count": null,
      "outputs": []
    },
    {
      "cell_type": "code",
      "source": [
        "do_ztest(\"hip hop\", \"electronic\", \"Cold\", t, tr)"
      ],
      "metadata": {
        "id": "CYSNbqlFl41w",
        "outputId": "b7ad1b96-e219-4d95-a0e6-7d90eb4624c3",
        "colab": {
          "base_uri": "https://localhost:8080/"
        }
      },
      "execution_count": null,
      "outputs": [
        {
          "output_type": "stream",
          "name": "stdout",
          "text": [
            "Is it statistically unlikely that I do not listen to more hip hop music than electronic music on cold days?\n"
          ]
        },
        {
          "output_type": "execute_result",
          "data": {
            "text/plain": [
              "{'SE': 0.01763303579278803,\n",
              " 'p1': 0.3551617873651772,\n",
              " 'p2': 0.20570107858243453,\n",
              " 'p_val': 1.1635865049308985e-17,\n",
              " 'phat_c': 0.28043143297380585,\n",
              " 'z': 8.476175659092835}"
            ]
          },
          "metadata": {},
          "execution_count": 16
        }
      ]
    },
    {
      "cell_type": "code",
      "source": [
        "do_ztest(\"electronic\", \"rock\", \"Warm\", t, tr)"
      ],
      "metadata": {
        "colab": {
          "base_uri": "https://localhost:8080/"
        },
        "id": "C9pyEUOiwt-R",
        "outputId": "972a38b2-03c7-4772-ae7b-27eea3f1e191"
      },
      "execution_count": null,
      "outputs": [
        {
          "output_type": "stream",
          "name": "stdout",
          "text": [
            "Is it statistically unlikely that I do not listen to more electronic music than rock music on warm days?\n"
          ]
        },
        {
          "output_type": "execute_result",
          "data": {
            "text/plain": [
              "{'SE': 0.01038702110893763,\n",
              " 'p1': 0.24891236793039154,\n",
              " 'p2': 0.19825978868862648,\n",
              " 'p_val': 5.398521179368137e-07,\n",
              " 'phat_c': 0.22358607830950902,\n",
              " 'z': 4.87652607138542}"
            ]
          },
          "metadata": {},
          "execution_count": 24
        }
      ]
    },
    {
      "cell_type": "code",
      "source": [
        "do_ztest(\"electronic\", \"rock\", \"Cool\", t, tr)"
      ],
      "metadata": {
        "colab": {
          "base_uri": "https://localhost:8080/"
        },
        "id": "Kr8Y1uh-w5Zi",
        "outputId": "1b41a4ae-ff2e-4cdc-ed21-7cc3ff824e79"
      },
      "execution_count": null,
      "outputs": [
        {
          "output_type": "stream",
          "name": "stdout",
          "text": [
            "Is it statistically unlikely that I do not listen to more electronic music than rock music on cool days?\n"
          ]
        },
        {
          "output_type": "execute_result",
          "data": {
            "text/plain": [
              "{'SE': 0.005305664709916518,\n",
              " 'p1': 0.3001777634130575,\n",
              " 'p2': 0.14915966386554622,\n",
              " 'p_val': 1.655764001881384e-178,\n",
              " 'phat_c': 0.22466871363930188,\n",
              " 'z': 28.463558819548457}"
            ]
          },
          "metadata": {},
          "execution_count": 19
        }
      ]
    },
    {
      "cell_type": "code",
      "source": [
        "do_ztest(\"pop\", \"electronic\", \"Partly cloudy\", w, wr)"
      ],
      "metadata": {
        "colab": {
          "base_uri": "https://localhost:8080/"
        },
        "id": "_7N4iPyLw90K",
        "outputId": "87da1ede-274c-4078-df8e-64fe0203daea"
      },
      "execution_count": null,
      "outputs": [
        {
          "output_type": "stream",
          "name": "stdout",
          "text": [
            "Is it statistically unlikely that I do not listen to more pop music than electronic music on partly cloudy days?\n"
          ]
        },
        {
          "output_type": "execute_result",
          "data": {
            "text/plain": [
              "{'SE': 0.00879430062146165,\n",
              " 'p1': 0.2877643504531722,\n",
              " 'p2': 0.28700906344410876,\n",
              " 'p_val': 0.4657794376108297,\n",
              " 'phat_c': 0.2873867069486405,\n",
              " 'z': 0.08588369235641774}"
            ]
          },
          "metadata": {},
          "execution_count": 20
        }
      ]
    },
    {
      "cell_type": "code",
      "source": [
        "do_ztest(\"pop\", \"electronic\", \"Clear\", w, wr)"
      ],
      "metadata": {
        "colab": {
          "base_uri": "https://localhost:8080/"
        },
        "id": "dIXhvct1y-u-",
        "outputId": "ece4be4d-473b-4e72-c105-5fd80c52e254"
      },
      "execution_count": null,
      "outputs": [
        {
          "output_type": "stream",
          "name": "stdout",
          "text": [
            "Is it statistically unlikely that I do not listen to more pop music than electronic music on clear days?\n"
          ]
        },
        {
          "output_type": "execute_result",
          "data": {
            "text/plain": [
              "{'SE': 0.008971668859695666,\n",
              " 'p1': 0.31914046955829684,\n",
              " 'p2': 0.2439315559092718,\n",
              " 'p_val': 2.5812072946184144e-17,\n",
              " 'phat_c': 0.2815360127337843,\n",
              " 'z': 8.382934638492248}"
            ]
          },
          "metadata": {},
          "execution_count": 21
        }
      ]
    },
    {
      "cell_type": "code",
      "source": [
        "do_ztest(\"electronic\", \"pop\", \"Overcast\", w, wr)"
      ],
      "metadata": {
        "colab": {
          "base_uri": "https://localhost:8080/"
        },
        "id": "_daQOWphzDT6",
        "outputId": "25e97e2d-550d-478e-9cb9-3d2b1cbe9a21"
      },
      "execution_count": null,
      "outputs": [
        {
          "output_type": "stream",
          "name": "stdout",
          "text": [
            "Is it statistically unlikely that I do not listen to more electronic music than pop music on overcast days?\n"
          ]
        },
        {
          "output_type": "execute_result",
          "data": {
            "text/plain": [
              "{'SE': 0.008682576978032153,\n",
              " 'p1': 0.3120605732828556,\n",
              " 'p2': 0.2833964305029746,\n",
              " 'p_val': 0.0004811201870327518,\n",
              " 'phat_c': 0.2977285018929151,\n",
              " 'z': 3.301340472120701}"
            ]
          },
          "metadata": {},
          "execution_count": 22
        }
      ]
    },
    {
      "cell_type": "code",
      "source": [
        "do_ztest(\"hip hop\", \"rock\", \"Rain\", w, wr)"
      ],
      "metadata": {
        "colab": {
          "base_uri": "https://localhost:8080/"
        },
        "id": "Ep_SMxadzL42",
        "outputId": "02203a5d-3aa9-467c-c141-fc97b61bf5d9"
      },
      "execution_count": null,
      "outputs": [
        {
          "output_type": "stream",
          "name": "stdout",
          "text": [
            "Is it statistically unlikely that I do not listen to more hip hop music than rock music on rain days?\n"
          ]
        },
        {
          "output_type": "execute_result",
          "data": {
            "text/plain": [
              "{'SE': 0.024181303395830078,\n",
              " 'p1': 0.2816399286987522,\n",
              " 'p2': 0.1319073083778966,\n",
              " 'p_val': 2.968727028676242e-10,\n",
              " 'phat_c': 0.20677361853832443,\n",
              " 'z': 6.1920822823254476}"
            ]
          },
          "metadata": {},
          "execution_count": 23
        }
      ]
    }
  ]
}